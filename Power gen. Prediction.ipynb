{
 "cells": [
  {
   "cell_type": "code",
   "execution_count": 1,
   "id": "b461f02d",
   "metadata": {},
   "outputs": [],
   "source": [
    "import pandas as pd\n",
    "import numpy as np\n",
    "import seaborn as sns\n",
    "import matplotlib.pyplot as plt\n",
    "import plotly.express as px\n",
    "from sklearn.preprocessing import LabelEncoder, StandardScaler\n",
    "from sklearn.model_selection import train_test_split\n",
    "\n",
    "from sklearn.linear_model import LogisticRegression\n",
    "from sklearn.svm import SVC\n",
    "from sklearn.neural_network import MLPClassifier\n",
    "from sklearn.tree import DecisionTreeClassifier\n",
    "from sklearn.ensemble import AdaBoostClassifier, BaggingClassifier, GradientBoostingClassifier, RandomForestClassifier"
   ]
  },
  {
   "cell_type": "code",
   "execution_count": 2,
   "id": "208a89c0",
   "metadata": {},
   "outputs": [],
   "source": [
    "data = pd.read_csv('file_02.csv')"
   ]
  },
  {
   "cell_type": "code",
   "execution_count": 3,
   "id": "3c35cd7d",
   "metadata": {},
   "outputs": [
    {
     "data": {
      "text/html": [
       "<div>\n",
       "<style scoped>\n",
       "    .dataframe tbody tr th:only-of-type {\n",
       "        vertical-align: middle;\n",
       "    }\n",
       "\n",
       "    .dataframe tbody tr th {\n",
       "        vertical-align: top;\n",
       "    }\n",
       "\n",
       "    .dataframe thead th {\n",
       "        text-align: right;\n",
       "    }\n",
       "</style>\n",
       "<table border=\"1\" class=\"dataframe\">\n",
       "  <thead>\n",
       "    <tr style=\"text-align: right;\">\n",
       "      <th></th>\n",
       "      <th>index</th>\n",
       "      <th>Date</th>\n",
       "      <th>Region</th>\n",
       "      <th>Thermal_Gen_Act_in_MU</th>\n",
       "      <th>Thermal_Gen_Estim_in_MU</th>\n",
       "      <th>Nuclear_Gen_Act_in_MU</th>\n",
       "      <th>Nuclear_Gen_Estim_in_MU</th>\n",
       "      <th>Hydro_Gen_Act_in_MU</th>\n",
       "      <th>Hydro_Gen_Estim_in_MU</th>\n",
       "    </tr>\n",
       "  </thead>\n",
       "  <tbody>\n",
       "    <tr>\n",
       "      <th>0</th>\n",
       "      <td>0</td>\n",
       "      <td>2017-09-01</td>\n",
       "      <td>Northern</td>\n",
       "      <td>624.23</td>\n",
       "      <td>484.21</td>\n",
       "      <td>30.36</td>\n",
       "      <td>35.57</td>\n",
       "      <td>273.27</td>\n",
       "      <td>320.81</td>\n",
       "    </tr>\n",
       "    <tr>\n",
       "      <th>1</th>\n",
       "      <td>1</td>\n",
       "      <td>2017-09-01</td>\n",
       "      <td>Western</td>\n",
       "      <td>1,106.89</td>\n",
       "      <td>1,024.33</td>\n",
       "      <td>25.17</td>\n",
       "      <td>3.81</td>\n",
       "      <td>72.00</td>\n",
       "      <td>21.53</td>\n",
       "    </tr>\n",
       "    <tr>\n",
       "      <th>2</th>\n",
       "      <td>2</td>\n",
       "      <td>2017-09-01</td>\n",
       "      <td>Southern</td>\n",
       "      <td>576.66</td>\n",
       "      <td>578.55</td>\n",
       "      <td>62.73</td>\n",
       "      <td>49.80</td>\n",
       "      <td>111.57</td>\n",
       "      <td>64.78</td>\n",
       "    </tr>\n",
       "    <tr>\n",
       "      <th>3</th>\n",
       "      <td>3</td>\n",
       "      <td>2017-09-01</td>\n",
       "      <td>Eastern</td>\n",
       "      <td>441.02</td>\n",
       "      <td>429.39</td>\n",
       "      <td>NaN</td>\n",
       "      <td>NaN</td>\n",
       "      <td>85.94</td>\n",
       "      <td>69.36</td>\n",
       "    </tr>\n",
       "    <tr>\n",
       "      <th>4</th>\n",
       "      <td>4</td>\n",
       "      <td>2017-09-01</td>\n",
       "      <td>NorthEastern</td>\n",
       "      <td>29.11</td>\n",
       "      <td>15.91</td>\n",
       "      <td>NaN</td>\n",
       "      <td>NaN</td>\n",
       "      <td>24.64</td>\n",
       "      <td>21.21</td>\n",
       "    </tr>\n",
       "    <tr>\n",
       "      <th>...</th>\n",
       "      <td>...</td>\n",
       "      <td>...</td>\n",
       "      <td>...</td>\n",
       "      <td>...</td>\n",
       "      <td>...</td>\n",
       "      <td>...</td>\n",
       "      <td>...</td>\n",
       "      <td>...</td>\n",
       "      <td>...</td>\n",
       "    </tr>\n",
       "    <tr>\n",
       "      <th>4940</th>\n",
       "      <td>305</td>\n",
       "      <td>2020-08-01</td>\n",
       "      <td>Northern</td>\n",
       "      <td>669.47</td>\n",
       "      <td>602.96</td>\n",
       "      <td>26.88</td>\n",
       "      <td>23.41</td>\n",
       "      <td>348.72</td>\n",
       "      <td>351.98</td>\n",
       "    </tr>\n",
       "    <tr>\n",
       "      <th>4941</th>\n",
       "      <td>306</td>\n",
       "      <td>2020-08-01</td>\n",
       "      <td>Western</td>\n",
       "      <td>1,116.00</td>\n",
       "      <td>1,262.10</td>\n",
       "      <td>42.37</td>\n",
       "      <td>36.63</td>\n",
       "      <td>54.67</td>\n",
       "      <td>20.28</td>\n",
       "    </tr>\n",
       "    <tr>\n",
       "      <th>4942</th>\n",
       "      <td>307</td>\n",
       "      <td>2020-08-01</td>\n",
       "      <td>Southern</td>\n",
       "      <td>494.66</td>\n",
       "      <td>415.53</td>\n",
       "      <td>61.83</td>\n",
       "      <td>26.28</td>\n",
       "      <td>93.49</td>\n",
       "      <td>77.25</td>\n",
       "    </tr>\n",
       "    <tr>\n",
       "      <th>4943</th>\n",
       "      <td>308</td>\n",
       "      <td>2020-08-01</td>\n",
       "      <td>Eastern</td>\n",
       "      <td>482.86</td>\n",
       "      <td>547.03</td>\n",
       "      <td>NaN</td>\n",
       "      <td>NaN</td>\n",
       "      <td>87.22</td>\n",
       "      <td>93.78</td>\n",
       "    </tr>\n",
       "    <tr>\n",
       "      <th>4944</th>\n",
       "      <td>309</td>\n",
       "      <td>2020-08-01</td>\n",
       "      <td>NorthEastern</td>\n",
       "      <td>34.42</td>\n",
       "      <td>32.81</td>\n",
       "      <td>NaN</td>\n",
       "      <td>NaN</td>\n",
       "      <td>29.87</td>\n",
       "      <td>29.96</td>\n",
       "    </tr>\n",
       "  </tbody>\n",
       "</table>\n",
       "<p>4945 rows × 9 columns</p>\n",
       "</div>"
      ],
      "text/plain": [
       "      index        Date        Region Thermal_Gen_Act_in_MU  \\\n",
       "0         0  2017-09-01      Northern                624.23   \n",
       "1         1  2017-09-01       Western              1,106.89   \n",
       "2         2  2017-09-01      Southern                576.66   \n",
       "3         3  2017-09-01       Eastern                441.02   \n",
       "4         4  2017-09-01  NorthEastern                 29.11   \n",
       "...     ...         ...           ...                   ...   \n",
       "4940    305  2020-08-01      Northern                669.47   \n",
       "4941    306  2020-08-01       Western              1,116.00   \n",
       "4942    307  2020-08-01      Southern                494.66   \n",
       "4943    308  2020-08-01       Eastern                482.86   \n",
       "4944    309  2020-08-01  NorthEastern                 34.42   \n",
       "\n",
       "     Thermal_Gen_Estim_in_MU  Nuclear_Gen_Act_in_MU  Nuclear_Gen_Estim_in_MU  \\\n",
       "0                     484.21                  30.36                    35.57   \n",
       "1                   1,024.33                  25.17                     3.81   \n",
       "2                     578.55                  62.73                    49.80   \n",
       "3                     429.39                    NaN                      NaN   \n",
       "4                      15.91                    NaN                      NaN   \n",
       "...                      ...                    ...                      ...   \n",
       "4940                  602.96                  26.88                    23.41   \n",
       "4941                1,262.10                  42.37                    36.63   \n",
       "4942                  415.53                  61.83                    26.28   \n",
       "4943                  547.03                    NaN                      NaN   \n",
       "4944                   32.81                    NaN                      NaN   \n",
       "\n",
       "      Hydro_Gen_Act_in_MU  Hydro_Gen_Estim_in_MU  \n",
       "0                  273.27                 320.81  \n",
       "1                   72.00                  21.53  \n",
       "2                  111.57                  64.78  \n",
       "3                   85.94                  69.36  \n",
       "4                   24.64                  21.21  \n",
       "...                   ...                    ...  \n",
       "4940               348.72                 351.98  \n",
       "4941                54.67                  20.28  \n",
       "4942                93.49                  77.25  \n",
       "4943                87.22                  93.78  \n",
       "4944                29.87                  29.96  \n",
       "\n",
       "[4945 rows x 9 columns]"
      ]
     },
     "execution_count": 3,
     "metadata": {},
     "output_type": "execute_result"
    }
   ],
   "source": [
    "data"
   ]
  },
  {
   "cell_type": "code",
   "execution_count": 4,
   "id": "4006c6c5",
   "metadata": {},
   "outputs": [
    {
     "name": "stdout",
     "output_type": "stream",
     "text": [
      "<class 'pandas.core.frame.DataFrame'>\n",
      "RangeIndex: 4945 entries, 0 to 4944\n",
      "Data columns (total 9 columns):\n",
      " #   Column                   Non-Null Count  Dtype  \n",
      "---  ------                   --------------  -----  \n",
      " 0   index                    4945 non-null   int64  \n",
      " 1   Date                     4945 non-null   object \n",
      " 2   Region                   4945 non-null   object \n",
      " 3   Thermal_Gen_Act_in_MU    4945 non-null   object \n",
      " 4   Thermal_Gen_Estim_in_MU  4945 non-null   object \n",
      " 5   Nuclear_Gen_Act_in_MU    2967 non-null   float64\n",
      " 6   Nuclear_Gen_Estim_in_MU  2967 non-null   float64\n",
      " 7   Hydro_Gen_Act_in_MU      4945 non-null   float64\n",
      " 8   Hydro_Gen_Estim_in_MU    4945 non-null   float64\n",
      "dtypes: float64(4), int64(1), object(4)\n",
      "memory usage: 347.8+ KB\n"
     ]
    }
   ],
   "source": [
    "data.info()"
   ]
  },
  {
   "cell_type": "markdown",
   "id": "a42eda57",
   "metadata": {},
   "source": [
    "# Dropping Index Column/Checking Missing Values"
   ]
  },
  {
   "cell_type": "code",
   "execution_count": 5,
   "id": "c72aad81",
   "metadata": {},
   "outputs": [],
   "source": [
    "data = data.drop('index', axis=1)"
   ]
  },
  {
   "cell_type": "code",
   "execution_count": 6,
   "id": "65cdd620",
   "metadata": {},
   "outputs": [
    {
     "data": {
      "text/plain": [
       "Date                       0.0\n",
       "Region                     0.0\n",
       "Thermal_Gen_Act_in_MU      0.0\n",
       "Thermal_Gen_Estim_in_MU    0.0\n",
       "Nuclear_Gen_Act_in_MU      0.4\n",
       "Nuclear_Gen_Estim_in_MU    0.4\n",
       "Hydro_Gen_Act_in_MU        0.0\n",
       "Hydro_Gen_Estim_in_MU      0.0\n",
       "dtype: float64"
      ]
     },
     "execution_count": 6,
     "metadata": {},
     "output_type": "execute_result"
    }
   ],
   "source": [
    "data.isna().mean()"
   ]
  },
  {
   "cell_type": "code",
   "execution_count": 7,
   "id": "b244ce23",
   "metadata": {},
   "outputs": [],
   "source": [
    "for column in ['Nuclear_Gen_Act_in_MU', 'Nuclear_Gen_Estim_in_MU']:\n",
    "    data[column] = data[column].fillna(data[column].mean())"
   ]
  },
  {
   "cell_type": "code",
   "execution_count": 8,
   "id": "86a4b2cc",
   "metadata": {},
   "outputs": [
    {
     "name": "stdout",
     "output_type": "stream",
     "text": [
      "Total missing values: 0\n"
     ]
    }
   ],
   "source": [
    "print(\"Total missing values:\", data.isna().sum().sum())"
   ]
  },
  {
   "cell_type": "markdown",
   "id": "41c2f0c7",
   "metadata": {},
   "source": [
    "# Removing Commas From Thermal Columns"
   ]
  },
  {
   "cell_type": "code",
   "execution_count": 9,
   "id": "7163b016",
   "metadata": {},
   "outputs": [
    {
     "name": "stderr",
     "output_type": "stream",
     "text": [
      "<ipython-input-9-c561f8307310>:2: DeprecationWarning: `np.float` is a deprecated alias for the builtin `float`. To silence this warning, use `float` by itself. Doing this will not modify any behavior and is safe. If you specifically wanted the numpy scalar type, use `np.float64` here.\n",
      "Deprecated in NumPy 1.20; for more details and guidance: https://numpy.org/devdocs/release/1.20.0-notes.html#deprecations\n",
      "  data[column] = data[column].apply(lambda x: np.float(x.replace(',', '')))\n"
     ]
    }
   ],
   "source": [
    "for column in ['Thermal_Gen_Act_in_MU', 'Thermal_Gen_Estim_in_MU']:\n",
    "    data[column] = data[column].apply(lambda x: np.float(x.replace(',', '')))"
   ]
  },
  {
   "cell_type": "code",
   "execution_count": 10,
   "id": "a6eb2afa",
   "metadata": {},
   "outputs": [
    {
     "data": {
      "text/html": [
       "<div>\n",
       "<style scoped>\n",
       "    .dataframe tbody tr th:only-of-type {\n",
       "        vertical-align: middle;\n",
       "    }\n",
       "\n",
       "    .dataframe tbody tr th {\n",
       "        vertical-align: top;\n",
       "    }\n",
       "\n",
       "    .dataframe thead th {\n",
       "        text-align: right;\n",
       "    }\n",
       "</style>\n",
       "<table border=\"1\" class=\"dataframe\">\n",
       "  <thead>\n",
       "    <tr style=\"text-align: right;\">\n",
       "      <th></th>\n",
       "      <th>Date</th>\n",
       "      <th>Region</th>\n",
       "      <th>Thermal_Gen_Act_in_MU</th>\n",
       "      <th>Thermal_Gen_Estim_in_MU</th>\n",
       "      <th>Nuclear_Gen_Act_in_MU</th>\n",
       "      <th>Nuclear_Gen_Estim_in_MU</th>\n",
       "      <th>Hydro_Gen_Act_in_MU</th>\n",
       "      <th>Hydro_Gen_Estim_in_MU</th>\n",
       "    </tr>\n",
       "  </thead>\n",
       "  <tbody>\n",
       "    <tr>\n",
       "      <th>0</th>\n",
       "      <td>2017-09-01</td>\n",
       "      <td>Northern</td>\n",
       "      <td>624.23</td>\n",
       "      <td>484.21</td>\n",
       "      <td>30.360000</td>\n",
       "      <td>35.570000</td>\n",
       "      <td>273.27</td>\n",
       "      <td>320.81</td>\n",
       "    </tr>\n",
       "    <tr>\n",
       "      <th>1</th>\n",
       "      <td>2017-09-01</td>\n",
       "      <td>Western</td>\n",
       "      <td>1106.89</td>\n",
       "      <td>1024.33</td>\n",
       "      <td>25.170000</td>\n",
       "      <td>3.810000</td>\n",
       "      <td>72.00</td>\n",
       "      <td>21.53</td>\n",
       "    </tr>\n",
       "    <tr>\n",
       "      <th>2</th>\n",
       "      <td>2017-09-01</td>\n",
       "      <td>Southern</td>\n",
       "      <td>576.66</td>\n",
       "      <td>578.55</td>\n",
       "      <td>62.730000</td>\n",
       "      <td>49.800000</td>\n",
       "      <td>111.57</td>\n",
       "      <td>64.78</td>\n",
       "    </tr>\n",
       "    <tr>\n",
       "      <th>3</th>\n",
       "      <td>2017-09-01</td>\n",
       "      <td>Eastern</td>\n",
       "      <td>441.02</td>\n",
       "      <td>429.39</td>\n",
       "      <td>37.242208</td>\n",
       "      <td>36.987877</td>\n",
       "      <td>85.94</td>\n",
       "      <td>69.36</td>\n",
       "    </tr>\n",
       "    <tr>\n",
       "      <th>4</th>\n",
       "      <td>2017-09-01</td>\n",
       "      <td>NorthEastern</td>\n",
       "      <td>29.11</td>\n",
       "      <td>15.91</td>\n",
       "      <td>37.242208</td>\n",
       "      <td>36.987877</td>\n",
       "      <td>24.64</td>\n",
       "      <td>21.21</td>\n",
       "    </tr>\n",
       "    <tr>\n",
       "      <th>...</th>\n",
       "      <td>...</td>\n",
       "      <td>...</td>\n",
       "      <td>...</td>\n",
       "      <td>...</td>\n",
       "      <td>...</td>\n",
       "      <td>...</td>\n",
       "      <td>...</td>\n",
       "      <td>...</td>\n",
       "    </tr>\n",
       "    <tr>\n",
       "      <th>4940</th>\n",
       "      <td>2020-08-01</td>\n",
       "      <td>Northern</td>\n",
       "      <td>669.47</td>\n",
       "      <td>602.96</td>\n",
       "      <td>26.880000</td>\n",
       "      <td>23.410000</td>\n",
       "      <td>348.72</td>\n",
       "      <td>351.98</td>\n",
       "    </tr>\n",
       "    <tr>\n",
       "      <th>4941</th>\n",
       "      <td>2020-08-01</td>\n",
       "      <td>Western</td>\n",
       "      <td>1116.00</td>\n",
       "      <td>1262.10</td>\n",
       "      <td>42.370000</td>\n",
       "      <td>36.630000</td>\n",
       "      <td>54.67</td>\n",
       "      <td>20.28</td>\n",
       "    </tr>\n",
       "    <tr>\n",
       "      <th>4942</th>\n",
       "      <td>2020-08-01</td>\n",
       "      <td>Southern</td>\n",
       "      <td>494.66</td>\n",
       "      <td>415.53</td>\n",
       "      <td>61.830000</td>\n",
       "      <td>26.280000</td>\n",
       "      <td>93.49</td>\n",
       "      <td>77.25</td>\n",
       "    </tr>\n",
       "    <tr>\n",
       "      <th>4943</th>\n",
       "      <td>2020-08-01</td>\n",
       "      <td>Eastern</td>\n",
       "      <td>482.86</td>\n",
       "      <td>547.03</td>\n",
       "      <td>37.242208</td>\n",
       "      <td>36.987877</td>\n",
       "      <td>87.22</td>\n",
       "      <td>93.78</td>\n",
       "    </tr>\n",
       "    <tr>\n",
       "      <th>4944</th>\n",
       "      <td>2020-08-01</td>\n",
       "      <td>NorthEastern</td>\n",
       "      <td>34.42</td>\n",
       "      <td>32.81</td>\n",
       "      <td>37.242208</td>\n",
       "      <td>36.987877</td>\n",
       "      <td>29.87</td>\n",
       "      <td>29.96</td>\n",
       "    </tr>\n",
       "  </tbody>\n",
       "</table>\n",
       "<p>4945 rows × 8 columns</p>\n",
       "</div>"
      ],
      "text/plain": [
       "            Date        Region  Thermal_Gen_Act_in_MU  \\\n",
       "0     2017-09-01      Northern                 624.23   \n",
       "1     2017-09-01       Western                1106.89   \n",
       "2     2017-09-01      Southern                 576.66   \n",
       "3     2017-09-01       Eastern                 441.02   \n",
       "4     2017-09-01  NorthEastern                  29.11   \n",
       "...          ...           ...                    ...   \n",
       "4940  2020-08-01      Northern                 669.47   \n",
       "4941  2020-08-01       Western                1116.00   \n",
       "4942  2020-08-01      Southern                 494.66   \n",
       "4943  2020-08-01       Eastern                 482.86   \n",
       "4944  2020-08-01  NorthEastern                  34.42   \n",
       "\n",
       "      Thermal_Gen_Estim_in_MU  Nuclear_Gen_Act_in_MU  Nuclear_Gen_Estim_in_MU  \\\n",
       "0                      484.21              30.360000                35.570000   \n",
       "1                     1024.33              25.170000                 3.810000   \n",
       "2                      578.55              62.730000                49.800000   \n",
       "3                      429.39              37.242208                36.987877   \n",
       "4                       15.91              37.242208                36.987877   \n",
       "...                       ...                    ...                      ...   \n",
       "4940                   602.96              26.880000                23.410000   \n",
       "4941                  1262.10              42.370000                36.630000   \n",
       "4942                   415.53              61.830000                26.280000   \n",
       "4943                   547.03              37.242208                36.987877   \n",
       "4944                    32.81              37.242208                36.987877   \n",
       "\n",
       "      Hydro_Gen_Act_in_MU  Hydro_Gen_Estim_in_MU  \n",
       "0                  273.27                 320.81  \n",
       "1                   72.00                  21.53  \n",
       "2                  111.57                  64.78  \n",
       "3                   85.94                  69.36  \n",
       "4                   24.64                  21.21  \n",
       "...                   ...                    ...  \n",
       "4940               348.72                 351.98  \n",
       "4941                54.67                  20.28  \n",
       "4942                93.49                  77.25  \n",
       "4943                87.22                  93.78  \n",
       "4944                29.87                  29.96  \n",
       "\n",
       "[4945 rows x 8 columns]"
      ]
     },
     "execution_count": 10,
     "metadata": {},
     "output_type": "execute_result"
    }
   ],
   "source": [
    "data"
   ]
  },
  {
   "cell_type": "code",
   "execution_count": 11,
   "id": "343001e5",
   "metadata": {},
   "outputs": [
    {
     "data": {
      "text/plain": [
       "Date                        object\n",
       "Region                      object\n",
       "Thermal_Gen_Act_in_MU      float64\n",
       "Thermal_Gen_Estim_in_MU    float64\n",
       "Nuclear_Gen_Act_in_MU      float64\n",
       "Nuclear_Gen_Estim_in_MU    float64\n",
       "Hydro_Gen_Act_in_MU        float64\n",
       "Hydro_Gen_Estim_in_MU      float64\n",
       "dtype: object"
      ]
     },
     "execution_count": 11,
     "metadata": {},
     "output_type": "execute_result"
    }
   ],
   "source": [
    "data.dtypes"
   ]
  },
  {
   "cell_type": "code",
   "execution_count": 12,
   "id": "9ab4d2da",
   "metadata": {},
   "outputs": [
    {
     "data": {
      "text/html": [
       "<div>\n",
       "<style scoped>\n",
       "    .dataframe tbody tr th:only-of-type {\n",
       "        vertical-align: middle;\n",
       "    }\n",
       "\n",
       "    .dataframe tbody tr th {\n",
       "        vertical-align: top;\n",
       "    }\n",
       "\n",
       "    .dataframe thead th {\n",
       "        text-align: right;\n",
       "    }\n",
       "</style>\n",
       "<table border=\"1\" class=\"dataframe\">\n",
       "  <thead>\n",
       "    <tr style=\"text-align: right;\">\n",
       "      <th></th>\n",
       "      <th>State_or_UT</th>\n",
       "      <th>Area_in_km2</th>\n",
       "      <th>Region</th>\n",
       "      <th>National_Share_in_%</th>\n",
       "    </tr>\n",
       "  </thead>\n",
       "  <tbody>\n",
       "    <tr>\n",
       "      <th>0</th>\n",
       "      <td>Rajasthan</td>\n",
       "      <td>342239</td>\n",
       "      <td>Northern</td>\n",
       "      <td>10.550</td>\n",
       "    </tr>\n",
       "    <tr>\n",
       "      <th>1</th>\n",
       "      <td>Madhya Pradesh</td>\n",
       "      <td>308350</td>\n",
       "      <td>Central</td>\n",
       "      <td>9.370</td>\n",
       "    </tr>\n",
       "    <tr>\n",
       "      <th>2</th>\n",
       "      <td>Maharashtra</td>\n",
       "      <td>307713</td>\n",
       "      <td>Western</td>\n",
       "      <td>9.360</td>\n",
       "    </tr>\n",
       "    <tr>\n",
       "      <th>3</th>\n",
       "      <td>Uttar Pradesh</td>\n",
       "      <td>240928</td>\n",
       "      <td>Northern</td>\n",
       "      <td>7.330</td>\n",
       "    </tr>\n",
       "    <tr>\n",
       "      <th>4</th>\n",
       "      <td>Gujarat</td>\n",
       "      <td>196024</td>\n",
       "      <td>Western</td>\n",
       "      <td>5.960</td>\n",
       "    </tr>\n",
       "    <tr>\n",
       "      <th>5</th>\n",
       "      <td>Karnataka</td>\n",
       "      <td>191791</td>\n",
       "      <td>Southern</td>\n",
       "      <td>5.830</td>\n",
       "    </tr>\n",
       "    <tr>\n",
       "      <th>6</th>\n",
       "      <td>Andhra Pradesh</td>\n",
       "      <td>162970</td>\n",
       "      <td>Southern</td>\n",
       "      <td>4.870</td>\n",
       "    </tr>\n",
       "    <tr>\n",
       "      <th>7</th>\n",
       "      <td>Odisha</td>\n",
       "      <td>155707</td>\n",
       "      <td>Eastern</td>\n",
       "      <td>4.730</td>\n",
       "    </tr>\n",
       "    <tr>\n",
       "      <th>8</th>\n",
       "      <td>Chhattisgarh</td>\n",
       "      <td>135191</td>\n",
       "      <td>Central</td>\n",
       "      <td>4.110</td>\n",
       "    </tr>\n",
       "    <tr>\n",
       "      <th>9</th>\n",
       "      <td>Tamil Nadu</td>\n",
       "      <td>130058</td>\n",
       "      <td>Southern</td>\n",
       "      <td>3.950</td>\n",
       "    </tr>\n",
       "    <tr>\n",
       "      <th>10</th>\n",
       "      <td>Telangana</td>\n",
       "      <td>112077</td>\n",
       "      <td>Southern</td>\n",
       "      <td>3.490</td>\n",
       "    </tr>\n",
       "    <tr>\n",
       "      <th>11</th>\n",
       "      <td>Bihar</td>\n",
       "      <td>94163</td>\n",
       "      <td>Eastern</td>\n",
       "      <td>2.860</td>\n",
       "    </tr>\n",
       "    <tr>\n",
       "      <th>12</th>\n",
       "      <td>West Bengal</td>\n",
       "      <td>88752</td>\n",
       "      <td>Eastern</td>\n",
       "      <td>2.700</td>\n",
       "    </tr>\n",
       "    <tr>\n",
       "      <th>13</th>\n",
       "      <td>Arunachal Pradesh</td>\n",
       "      <td>83743</td>\n",
       "      <td>Northeastern</td>\n",
       "      <td>2.540</td>\n",
       "    </tr>\n",
       "    <tr>\n",
       "      <th>14</th>\n",
       "      <td>Jharkhand</td>\n",
       "      <td>79714</td>\n",
       "      <td>Eastern</td>\n",
       "      <td>2.420</td>\n",
       "    </tr>\n",
       "    <tr>\n",
       "      <th>15</th>\n",
       "      <td>Assam</td>\n",
       "      <td>78438</td>\n",
       "      <td>Northeastern</td>\n",
       "      <td>2.380</td>\n",
       "    </tr>\n",
       "    <tr>\n",
       "      <th>16</th>\n",
       "      <td>Ladakh</td>\n",
       "      <td>59146</td>\n",
       "      <td>Northern</td>\n",
       "      <td>1.800</td>\n",
       "    </tr>\n",
       "    <tr>\n",
       "      <th>17</th>\n",
       "      <td>Himachal Pradesh</td>\n",
       "      <td>55673</td>\n",
       "      <td>Northern</td>\n",
       "      <td>1.700</td>\n",
       "    </tr>\n",
       "    <tr>\n",
       "      <th>18</th>\n",
       "      <td>Uttarakhand</td>\n",
       "      <td>53483</td>\n",
       "      <td>Northern</td>\n",
       "      <td>1.620</td>\n",
       "    </tr>\n",
       "    <tr>\n",
       "      <th>19</th>\n",
       "      <td>Punjab</td>\n",
       "      <td>50362</td>\n",
       "      <td>Northern</td>\n",
       "      <td>1.530</td>\n",
       "    </tr>\n",
       "    <tr>\n",
       "      <th>20</th>\n",
       "      <td>Haryana</td>\n",
       "      <td>44212</td>\n",
       "      <td>Northern</td>\n",
       "      <td>1.340</td>\n",
       "    </tr>\n",
       "    <tr>\n",
       "      <th>21</th>\n",
       "      <td>Jammu and Kashmir</td>\n",
       "      <td>42241</td>\n",
       "      <td>Northern</td>\n",
       "      <td>1.280</td>\n",
       "    </tr>\n",
       "    <tr>\n",
       "      <th>22</th>\n",
       "      <td>Kerala</td>\n",
       "      <td>38863</td>\n",
       "      <td>Southern</td>\n",
       "      <td>1.180</td>\n",
       "    </tr>\n",
       "    <tr>\n",
       "      <th>23</th>\n",
       "      <td>Meghalaya</td>\n",
       "      <td>22429</td>\n",
       "      <td>Northeastern</td>\n",
       "      <td>0.680</td>\n",
       "    </tr>\n",
       "    <tr>\n",
       "      <th>24</th>\n",
       "      <td>Manipur</td>\n",
       "      <td>22327</td>\n",
       "      <td>Northeastern</td>\n",
       "      <td>0.680</td>\n",
       "    </tr>\n",
       "    <tr>\n",
       "      <th>25</th>\n",
       "      <td>Mizoram</td>\n",
       "      <td>21081</td>\n",
       "      <td>Northeastern</td>\n",
       "      <td>0.640</td>\n",
       "    </tr>\n",
       "    <tr>\n",
       "      <th>26</th>\n",
       "      <td>Nagaland</td>\n",
       "      <td>16579</td>\n",
       "      <td>Northeastern</td>\n",
       "      <td>0.500</td>\n",
       "    </tr>\n",
       "    <tr>\n",
       "      <th>27</th>\n",
       "      <td>Tripura</td>\n",
       "      <td>10486</td>\n",
       "      <td>Northeastern</td>\n",
       "      <td>0.310</td>\n",
       "    </tr>\n",
       "    <tr>\n",
       "      <th>28</th>\n",
       "      <td>Sikkim</td>\n",
       "      <td>7096</td>\n",
       "      <td>Northeastern</td>\n",
       "      <td>0.210</td>\n",
       "    </tr>\n",
       "    <tr>\n",
       "      <th>29</th>\n",
       "      <td>Goa</td>\n",
       "      <td>3702</td>\n",
       "      <td>Western</td>\n",
       "      <td>0.110</td>\n",
       "    </tr>\n",
       "    <tr>\n",
       "      <th>30</th>\n",
       "      <td>Delhi</td>\n",
       "      <td>1483</td>\n",
       "      <td>Northern</td>\n",
       "      <td>0.040</td>\n",
       "    </tr>\n",
       "    <tr>\n",
       "      <th>31</th>\n",
       "      <td>Dadra and Nagar Haveli and Daman and Diu</td>\n",
       "      <td>603</td>\n",
       "      <td>Western</td>\n",
       "      <td>0.010</td>\n",
       "    </tr>\n",
       "    <tr>\n",
       "      <th>32</th>\n",
       "      <td>Puducherry</td>\n",
       "      <td>492</td>\n",
       "      <td>Southern</td>\n",
       "      <td>0.010</td>\n",
       "    </tr>\n",
       "    <tr>\n",
       "      <th>33</th>\n",
       "      <td>Chandigarh</td>\n",
       "      <td>114</td>\n",
       "      <td>Northern</td>\n",
       "      <td>0.003</td>\n",
       "    </tr>\n",
       "  </tbody>\n",
       "</table>\n",
       "</div>"
      ],
      "text/plain": [
       "                                 State_or_UT  Area_in_km2        Region  \\\n",
       "0                                  Rajasthan       342239      Northern   \n",
       "1                             Madhya Pradesh       308350       Central   \n",
       "2                                Maharashtra       307713       Western   \n",
       "3                              Uttar Pradesh       240928      Northern   \n",
       "4                                    Gujarat       196024       Western   \n",
       "5                                  Karnataka       191791      Southern   \n",
       "6                             Andhra Pradesh       162970      Southern   \n",
       "7                                     Odisha       155707       Eastern   \n",
       "8                               Chhattisgarh       135191       Central   \n",
       "9                                 Tamil Nadu       130058      Southern   \n",
       "10                                 Telangana       112077      Southern   \n",
       "11                                     Bihar        94163       Eastern   \n",
       "12                               West Bengal        88752       Eastern   \n",
       "13                         Arunachal Pradesh        83743  Northeastern   \n",
       "14                                 Jharkhand        79714       Eastern   \n",
       "15                                     Assam        78438  Northeastern   \n",
       "16                                    Ladakh        59146      Northern   \n",
       "17                          Himachal Pradesh        55673      Northern   \n",
       "18                               Uttarakhand        53483      Northern   \n",
       "19                                    Punjab        50362      Northern   \n",
       "20                                   Haryana        44212      Northern   \n",
       "21                         Jammu and Kashmir        42241      Northern   \n",
       "22                                    Kerala        38863      Southern   \n",
       "23                                 Meghalaya        22429  Northeastern   \n",
       "24                                   Manipur        22327  Northeastern   \n",
       "25                                   Mizoram        21081  Northeastern   \n",
       "26                                  Nagaland        16579  Northeastern   \n",
       "27                                   Tripura        10486  Northeastern   \n",
       "28                                    Sikkim         7096  Northeastern   \n",
       "29                                       Goa         3702       Western   \n",
       "30                                     Delhi         1483      Northern   \n",
       "31  Dadra and Nagar Haveli and Daman and Diu          603       Western   \n",
       "32                                Puducherry          492      Southern   \n",
       "33                                Chandigarh          114      Northern   \n",
       "\n",
       "    National_Share_in_%  \n",
       "0                10.550  \n",
       "1                 9.370  \n",
       "2                 9.360  \n",
       "3                 7.330  \n",
       "4                 5.960  \n",
       "5                 5.830  \n",
       "6                 4.870  \n",
       "7                 4.730  \n",
       "8                 4.110  \n",
       "9                 3.950  \n",
       "10                3.490  \n",
       "11                2.860  \n",
       "12                2.700  \n",
       "13                2.540  \n",
       "14                2.420  \n",
       "15                2.380  \n",
       "16                1.800  \n",
       "17                1.700  \n",
       "18                1.620  \n",
       "19                1.530  \n",
       "20                1.340  \n",
       "21                1.280  \n",
       "22                1.180  \n",
       "23                0.680  \n",
       "24                0.680  \n",
       "25                0.640  \n",
       "26                0.500  \n",
       "27                0.310  \n",
       "28                0.210  \n",
       "29                0.110  \n",
       "30                0.040  \n",
       "31                0.010  \n",
       "32                0.010  \n",
       "33                0.003  "
      ]
     },
     "execution_count": 12,
     "metadata": {},
     "output_type": "execute_result"
    }
   ],
   "source": [
    "state_df = pd.read_csv('State_Region_corrected.csv')\n",
    "state_df "
   ]
  },
  {
   "cell_type": "code",
   "execution_count": 13,
   "id": "78e3fccf",
   "metadata": {},
   "outputs": [
    {
     "data": {
      "text/plain": [
       "<AxesSubplot:xlabel='National_Share_in_%', ylabel='State_or_UT'>"
      ]
     },
     "execution_count": 13,
     "metadata": {},
     "output_type": "execute_result"
    },
    {
     "data": {
      "image/png": "[encoded data removed]",
      "text/plain": [
       "<Figure size 842.4x595.44 with 1 Axes>"
      ]
     },
     "metadata": {
      "needs_background": "light"
     },
     "output_type": "display_data"
    }
   ],
   "source": [
    "fig, ax = plt.subplots()\n",
    "fig.set_size_inches(11.7, 8.27)\n",
    "sns.barplot(x=\"National_Share_in_%\", y=\"State_or_UT\", data=state_df)"
   ]
  },
  {
   "cell_type": "code",
   "execution_count": 51,
   "id": "79e68fa6",
   "metadata": {},
   "outputs": [
    {
     "data": {
      "application/vnd.plotly.v1+json": {
       "config": {
        "plotlyServerURL": "https://plot.ly"
       },
       "data": [
        {
         "domain": {
          "x": [
           0,
           1
          ],
          "y": [
           0,
           1
          ]
         },
         "hovertemplate": "Region=%{label}<br>value=%{value}<extra></extra>",
         "labels": [
          "Northern",
          "Southern",
          "Western",
          "Central",
          "Eastern",
          "Northeastern"
         ],
         "legendgroup": "",
         "name": "",
         "showlegend": true,
         "type": "pie",
         "values": [
          27.193000000000005,
          19.330000000000002,
          15.44,
          13.48,
          12.709999999999999,
          7.939999999999999
         ]
        }
       ],
       "layout": {
        "legend": {
         "tracegroupgap": 0
        },
        "template": {
         "data": {
          "bar": [
           {
            "error_x": {
             "color": "#2a3f5f"
            },
            "error_y": {
             "color": "#2a3f5f"
            },
            "marker": {
             "line": {
              "color": "#E5ECF6",
              "width": 0.5
             }
            },
            "type": "bar"
           }
          ],
          "barpolar": [
           {
            "marker": {
             "line": {
              "color": "#E5ECF6",
              "width": 0.5
             }
            },
            "type": "barpolar"
           }
          ],
          "carpet": [
           {
            "aaxis": {
             "endlinecolor": "#2a3f5f",
             "gridcolor": "white",
             "linecolor": "white",
             "minorgridcolor": "white",
             "startlinecolor": "#2a3f5f"
            },
            "baxis": {
             "endlinecolor": "#2a3f5f",
             "gridcolor": "white",
             "linecolor": "white",
             "minorgridcolor": "white",
             "startlinecolor": "#2a3f5f"
            },
            "type": "carpet"
           }
          ],
          "choropleth": [
           {
            "colorbar": {
             "outlinewidth": 0,
             "ticks": ""
            },
            "type": "choropleth"
           }
          ],
          "contour": [
           {
            "colorbar": {
             "outlinewidth": 0,
             "ticks": ""
            },
            "colorscale": [
             [
              0,
              "#0d0887"
             ],
             [
              0.1111111111111111,
              "#46039f"
             ],
             [
              0.2222222222222222,
              "#7201a8"
             ],
             [
              0.3333333333333333,
              "#9c179e"
             ],
             [
              0.4444444444444444,
              "#bd3786"
             ],
             [
              0.5555555555555556,
              "#d8576b"
             ],
             [
              0.6666666666666666,
              "#ed7953"
             ],
             [
              0.7777777777777778,
              "#fb9f3a"
             ],
             [
              0.8888888888888888,
              "#fdca26"
             ],
             [
              1,
              "#f0f921"
             ]
            ],
            "type": "contour"
           }
          ],
          "contourcarpet": [
           {
            "colorbar": {
             "outlinewidth": 0,
             "ticks": ""
            },
            "type": "contourcarpet"
           }
          ],
          "heatmap": [
           {
            "colorbar": {
             "outlinewidth": 0,
             "ticks": ""
            },
            "colorscale": [
             [
              0,
              "#0d0887"
             ],
             [
              0.1111111111111111,
              "#46039f"
             ],
             [
              0.2222222222222222,
              "#7201a8"
             ],
             [
              0.3333333333333333,
              "#9c179e"
             ],
             [
              0.4444444444444444,
              "#bd3786"
             ],
             [
              0.5555555555555556,
              "#d8576b"
             ],
             [
              0.6666666666666666,
              "#ed7953"
             ],
             [
              0.7777777777777778,
              "#fb9f3a"
             ],
             [
              0.8888888888888888,
              "#fdca26"
             ],
             [
              1,
              "#f0f921"
             ]
            ],
            "type": "heatmap"
           }
          ],
          "heatmapgl": [
           {
            "colorbar": {
             "outlinewidth": 0,
             "ticks": ""
            },
            "colorscale": [
             [
              0,
              "#0d0887"
             ],
             [
              0.1111111111111111,
              "#46039f"
             ],
             [
              0.2222222222222222,
              "#7201a8"
             ],
             [
              0.3333333333333333,
              "#9c179e"
             ],
             [
              0.4444444444444444,
              "#bd3786"
             ],
             [
              0.5555555555555556,
              "#d8576b"
             ],
             [
              0.6666666666666666,
              "#ed7953"
             ],
             [
              0.7777777777777778,
              "#fb9f3a"
             ],
             [
              0.8888888888888888,
              "#fdca26"
             ],
             [
              1,
              "#f0f921"
             ]
            ],
            "type": "heatmapgl"
           }
          ],
          "histogram": [
           {
            "marker": {
             "colorbar": {
              "outlinewidth": 0,
              "ticks": ""
             }
            },
            "type": "histogram"
           }
          ],
          "histogram2d": [
           {
            "colorbar": {
             "outlinewidth": 0,
             "ticks": ""
            },
            "colorscale": [
             [
              0,
              "#0d0887"
             ],
             [
              0.1111111111111111,
              "#46039f"
             ],
             [
              0.2222222222222222,
              "#7201a8"
             ],
             [
              0.3333333333333333,
              "#9c179e"
             ],
             [
              0.4444444444444444,
              "#bd3786"
             ],
             [
              0.5555555555555556,
              "#d8576b"
             ],
             [
              0.6666666666666666,
              "#ed7953"
             ],
             [
              0.7777777777777778,
              "#fb9f3a"
             ],
             [
              0.8888888888888888,
              "#fdca26"
             ],
             [
              1,
              "#f0f921"
             ]
            ],
            "type": "histogram2d"
           }
          ],
          "histogram2dcontour": [
           {
            "colorbar": {
             "outlinewidth": 0,
             "ticks": ""
            },
            "colorscale": [
             [
              0,
              "#0d0887"
             ],
             [
              0.1111111111111111,
              "#46039f"
             ],
             [
              0.2222222222222222,
              "#7201a8"
             ],
             [
              0.3333333333333333,
              "#9c179e"
             ],
             [
              0.4444444444444444,
              "#bd3786"
             ],
             [
              0.5555555555555556,
              "#d8576b"
             ],
             [
              0.6666666666666666,
              "#ed7953"
             ],
             [
              0.7777777777777778,
              "#fb9f3a"
             ],
             [
              0.8888888888888888,
              "#fdca26"
             ],
             [
              1,
              "#f0f921"
             ]
            ],
            "type": "histogram2dcontour"
           }
          ],
          "mesh3d": [
           {
            "colorbar": {
             "outlinewidth": 0,
             "ticks": ""
            },
            "type": "mesh3d"
           }
          ],
          "parcoords": [
           {
            "line": {
             "colorbar": {
              "outlinewidth": 0,
              "ticks": ""
             }
            },
            "type": "parcoords"
           }
          ],
          "pie": [
           {
            "automargin": true,
            "type": "pie"
           }
          ],
          "scatter": [
           {
            "marker": {
             "colorbar": {
              "outlinewidth": 0,
              "ticks": ""
             }
            },
            "type": "scatter"
           }
          ],
          "scatter3d": [
           {
            "line": {
             "colorbar": {
              "outlinewidth": 0,
              "ticks": ""
             }
            },
            "marker": {
             "colorbar": {
              "outlinewidth": 0,
              "ticks": ""
             }
            },
            "type": "scatter3d"
           }
          ],
          "scattercarpet": [
           {
            "marker": {
             "colorbar": {
              "outlinewidth": 0,
              "ticks": ""
             }
            },
            "type": "scattercarpet"
           }
          ],
          "scattergeo": [
           {
            "marker": {
             "colorbar": {
              "outlinewidth": 0,
              "ticks": ""
             }
            },
            "type": "scattergeo"
           }
          ],
          "scattergl": [
           {
            "marker": {
             "colorbar": {
              "outlinewidth": 0,
              "ticks": ""
             }
            },
            "type": "scattergl"
           }
          ],
          "scattermapbox": [
           {
            "marker": {
             "colorbar": {
              "outlinewidth": 0,
              "ticks": ""
             }
            },
            "type": "scattermapbox"
           }
          ],
          "scatterpolar": [
           {
            "marker": {
             "colorbar": {
              "outlinewidth": 0,
              "ticks": ""
             }
            },
            "type": "scatterpolar"
           }
          ],
          "scatterpolargl": [
           {
            "marker": {
             "colorbar": {
              "outlinewidth": 0,
              "ticks": ""
             }
            },
            "type": "scatterpolargl"
           }
          ],
          "scatterternary": [
           {
            "marker": {
             "colorbar": {
              "outlinewidth": 0,
              "ticks": ""
             }
            },
            "type": "scatterternary"
           }
          ],
          "surface": [
           {
            "colorbar": {
             "outlinewidth": 0,
             "ticks": ""
            },
            "colorscale": [
             [
              0,
              "#0d0887"
             ],
             [
              0.1111111111111111,
              "#46039f"
             ],
             [
              0.2222222222222222,
              "#7201a8"
             ],
             [
              0.3333333333333333,
              "#9c179e"
             ],
             [
              0.4444444444444444,
              "#bd3786"
             ],
             [
              0.5555555555555556,
              "#d8576b"
             ],
             [
              0.6666666666666666,
              "#ed7953"
             ],
             [
              0.7777777777777778,
              "#fb9f3a"
             ],
             [
              0.8888888888888888,
              "#fdca26"
             ],
             [
              1,
              "#f0f921"
             ]
            ],
            "type": "surface"
           }
          ],
          "table": [
           {
            "cells": {
             "fill": {
              "color": "#EBF0F8"
             },
             "line": {
              "color": "white"
             }
            },
            "header": {
             "fill": {
              "color": "#C8D4E3"
             },
             "line": {
              "color": "white"
             }
            },
            "type": "table"
           }
          ]
         },
         "layout": {
          "annotationdefaults": {
           "arrowcolor": "#2a3f5f",
           "arrowhead": 0,
           "arrowwidth": 1
          },
          "autotypenumbers": "strict",
          "coloraxis": {
           "colorbar": {
            "outlinewidth": 0,
            "ticks": ""
           }
          },
          "colorscale": {
           "diverging": [
            [
             0,
             "#8e0152"
            ],
            [
             0.1,
             "#c51b7d"
            ],
            [
             0.2,
             "#de77ae"
            ],
            [
             0.3,
             "#f1b6da"
            ],
            [
             0.4,
             "#fde0ef"
            ],
            [
             0.5,
             "#f7f7f7"
            ],
            [
             0.6,
             "#e6f5d0"
            ],
            [
             0.7,
             "#b8e186"
            ],
            [
             0.8,
             "#7fbc41"
            ],
            [
             0.9,
             "#4d9221"
            ],
            [
             1,
             "#276419"
            ]
           ],
           "sequential": [
            [
             0,
             "#0d0887"
            ],
            [
             0.1111111111111111,
             "#46039f"
            ],
            [
             0.2222222222222222,
             "#7201a8"
            ],
            [
             0.3333333333333333,
             "#9c179e"
            ],
            [
             0.4444444444444444,
             "#bd3786"
            ],
            [
             0.5555555555555556,
             "#d8576b"
            ],
            [
             0.6666666666666666,
             "#ed7953"
            ],
            [
             0.7777777777777778,
             "#fb9f3a"
            ],
            [
             0.8888888888888888,
             "#fdca26"
            ],
            [
             1,
             "#f0f921"
            ]
           ],
           "sequentialminus": [
            [
             0,
             "#0d0887"
            ],
            [
             0.1111111111111111,
             "#46039f"
            ],
            [
             0.2222222222222222,
             "#7201a8"
            ],
            [
             0.3333333333333333,
             "#9c179e"
            ],
            [
             0.4444444444444444,
             "#bd3786"
            ],
            [
             0.5555555555555556,
             "#d8576b"
            ],
            [
             0.6666666666666666,
             "#ed7953"
            ],
            [
             0.7777777777777778,
             "#fb9f3a"
            ],
            [
             0.8888888888888888,
             "#fdca26"
            ],
            [
             1,
             "#f0f921"
            ]
           ]
          },
          "colorway": [
           "#636efa",
           "#EF553B",
           "#00cc96",
           "#ab63fa",
           "#FFA15A",
           "#19d3f3",
           "#FF6692",
           "#B6E880",
           "#FF97FF",
           "#FECB52"
          ],
          "font": {
           "color": "#2a3f5f"
          },
          "geo": {
           "bgcolor": "white",
           "lakecolor": "white",
           "landcolor": "#E5ECF6",
           "showlakes": true,
           "showland": true,
           "subunitcolor": "white"
          },
          "hoverlabel": {
           "align": "left"
          },
          "hovermode": "closest",
          "mapbox": {
           "style": "light"
          },
          "paper_bgcolor": "white",
          "plot_bgcolor": "#E5ECF6",
          "polar": {
           "angularaxis": {
            "gridcolor": "white",
            "linecolor": "white",
            "ticks": ""
           },
           "bgcolor": "#E5ECF6",
           "radialaxis": {
            "gridcolor": "white",
            "linecolor": "white",
            "ticks": ""
           }
          },
          "scene": {
           "xaxis": {
            "backgroundcolor": "#E5ECF6",
            "gridcolor": "white",
            "gridwidth": 2,
            "linecolor": "white",
            "showbackground": true,
            "ticks": "",
            "zerolinecolor": "white"
           },
           "yaxis": {
            "backgroundcolor": "#E5ECF6",
            "gridcolor": "white",
            "gridwidth": 2,
            "linecolor": "white",
            "showbackground": true,
            "ticks": "",
            "zerolinecolor": "white"
           },
           "zaxis": {
            "backgroundcolor": "#E5ECF6",
            "gridcolor": "white",
            "gridwidth": 2,
            "linecolor": "white",
            "showbackground": true,
            "ticks": "",
            "zerolinecolor": "white"
           }
          },
          "shapedefaults": {
           "line": {
            "color": "#2a3f5f"
           }
          },
          "ternary": {
           "aaxis": {
            "gridcolor": "white",
            "linecolor": "white",
            "ticks": ""
           },
           "baxis": {
            "gridcolor": "white",
            "linecolor": "white",
            "ticks": ""
           },
           "bgcolor": "#E5ECF6",
           "caxis": {
            "gridcolor": "white",
            "linecolor": "white",
            "ticks": ""
           }
          },
          "title": {
           "x": 0.05
          },
          "xaxis": {
           "automargin": true,
           "gridcolor": "white",
           "linecolor": "white",
           "ticks": "",
           "title": {
            "standoff": 15
           },
           "zerolinecolor": "white",
           "zerolinewidth": 2
          },
          "yaxis": {
           "automargin": true,
           "gridcolor": "white",
           "linecolor": "white",
           "ticks": "",
           "title": {
            "standoff": 15
           },
           "zerolinecolor": "white",
           "zerolinewidth": 2
          }
         }
        },
        "title": {
         "text": ".                                          .Distribution of Power Region Wise"
        }
       }
      },
      "text/html": [
       "<div>                            <div id=\"c09f52b0-0ac3-4766-9d23-cad119bf3665\" class=\"plotly-graph-div\" style=\"height:525px; width:100%;\"></div>            <script type=\"text/javascript\">                require([\"plotly\"], function(Plotly) {                    window.PLOTLYENV=window.PLOTLYENV || {};                                    if (document.getElementById(\"c09f52b0-0ac3-4766-9d23-cad119bf3665\")) {                    Plotly.newPlot(                        \"c09f52b0-0ac3-4766-9d23-cad119bf3665\",                        [{\"domain\": {\"x\": [0.0, 1.0], \"y\": [0.0, 1.0]}, \"hovertemplate\": \"Region=%{label}<br>value=%{value}<extra></extra>\", \"labels\": [\"Northern\", \"Southern\", \"Western\", \"Central\", \"Eastern\", \"Northeastern\"], \"legendgroup\": \"\", \"name\": \"\", \"showlegend\": true, \"type\": \"pie\", \"values\": [27.193000000000005, 19.330000000000002, 15.44, 13.48, 12.709999999999999, 7.939999999999999]}],                        {\"legend\": {\"tracegroupgap\": 0}, \"template\": {\"data\": {\"bar\": [{\"error_x\": {\"color\": \"#2a3f5f\"}, \"error_y\": {\"color\": \"#2a3f5f\"}, \"marker\": {\"line\": {\"color\": \"#E5ECF6\", \"width\": 0.5}}, \"type\": \"bar\"}], \"barpolar\": [{\"marker\": {\"line\": {\"color\": \"#E5ECF6\", \"width\": 0.5}}, \"type\": \"barpolar\"}], \"carpet\": [{\"aaxis\": {\"endlinecolor\": \"#2a3f5f\", \"gridcolor\": \"white\", \"linecolor\": \"white\", \"minorgridcolor\": \"white\", \"startlinecolor\": \"#2a3f5f\"}, \"baxis\": {\"endlinecolor\": \"#2a3f5f\", \"gridcolor\": \"white\", \"linecolor\": \"white\", \"minorgridcolor\": \"white\", \"startlinecolor\": \"#2a3f5f\"}, \"type\": \"carpet\"}], \"choropleth\": [{\"colorbar\": {\"outlinewidth\": 0, \"ticks\": \"\"}, \"type\": \"choropleth\"}], \"contour\": [{\"colorbar\": {\"outlinewidth\": 0, \"ticks\": \"\"}, \"colorscale\": [[0.0, \"#0d0887\"], [0.1111111111111111, \"#46039f\"], [0.2222222222222222, \"#7201a8\"], [0.3333333333333333, \"#9c179e\"], [0.4444444444444444, \"#bd3786\"], [0.5555555555555556, \"#d8576b\"], [0.6666666666666666, \"#ed7953\"], [0.7777777777777778, \"#fb9f3a\"], [0.8888888888888888, \"#fdca26\"], [1.0, \"#f0f921\"]], \"type\": \"contour\"}], \"contourcarpet\": [{\"colorbar\": {\"outlinewidth\": 0, \"ticks\": \"\"}, \"type\": \"contourcarpet\"}], \"heatmap\": [{\"colorbar\": {\"outlinewidth\": 0, \"ticks\": \"\"}, \"colorscale\": [[0.0, \"#0d0887\"], [0.1111111111111111, \"#46039f\"], [0.2222222222222222, \"#7201a8\"], [0.3333333333333333, \"#9c179e\"], [0.4444444444444444, \"#bd3786\"], [0.5555555555555556, \"#d8576b\"], [0.6666666666666666, \"#ed7953\"], [0.7777777777777778, \"#fb9f3a\"], [0.8888888888888888, \"#fdca26\"], [1.0, \"#f0f921\"]], \"type\": \"heatmap\"}], \"heatmapgl\": [{\"colorbar\": {\"outlinewidth\": 0, \"ticks\": \"\"}, \"colorscale\": [[0.0, \"#0d0887\"], [0.1111111111111111, \"#46039f\"], [0.2222222222222222, \"#7201a8\"], [0.3333333333333333, \"#9c179e\"], [0.4444444444444444, \"#bd3786\"], [0.5555555555555556, \"#d8576b\"], [0.6666666666666666, \"#ed7953\"], [0.7777777777777778, \"#fb9f3a\"], [0.8888888888888888, \"#fdca26\"], [1.0, \"#f0f921\"]], \"type\": \"heatmapgl\"}], \"histogram\": [{\"marker\": {\"colorbar\": {\"outlinewidth\": 0, \"ticks\": \"\"}}, \"type\": \"histogram\"}], \"histogram2d\": [{\"colorbar\": {\"outlinewidth\": 0, \"ticks\": \"\"}, \"colorscale\": [[0.0, \"#0d0887\"], [0.1111111111111111, \"#46039f\"], [0.2222222222222222, \"#7201a8\"], [0.3333333333333333, \"#9c179e\"], [0.4444444444444444, \"#bd3786\"], [0.5555555555555556, \"#d8576b\"], [0.6666666666666666, \"#ed7953\"], [0.7777777777777778, \"#fb9f3a\"], [0.8888888888888888, \"#fdca26\"], [1.0, \"#f0f921\"]], \"type\": \"histogram2d\"}], \"histogram2dcontour\": [{\"colorbar\": {\"outlinewidth\": 0, \"ticks\": \"\"}, \"colorscale\": [[0.0, \"#0d0887\"], [0.1111111111111111, \"#46039f\"], [0.2222222222222222, \"#7201a8\"], [0.3333333333333333, \"#9c179e\"], [0.4444444444444444, \"#bd3786\"], [0.5555555555555556, \"#d8576b\"], [0.6666666666666666, \"#ed7953\"], [0.7777777777777778, \"#fb9f3a\"], [0.8888888888888888, \"#fdca26\"], [1.0, \"#f0f921\"]], \"type\": \"histogram2dcontour\"}], \"mesh3d\": [{\"colorbar\": {\"outlinewidth\": 0, \"ticks\": \"\"}, \"type\": \"mesh3d\"}], \"parcoords\": [{\"line\": {\"colorbar\": {\"outlinewidth\": 0, \"ticks\": \"\"}}, \"type\": \"parcoords\"}], \"pie\": [{\"automargin\": true, \"type\": \"pie\"}], \"scatter\": [{\"marker\": {\"colorbar\": {\"outlinewidth\": 0, \"ticks\": \"\"}}, \"type\": \"scatter\"}], \"scatter3d\": [{\"line\": {\"colorbar\": {\"outlinewidth\": 0, \"ticks\": \"\"}}, \"marker\": {\"colorbar\": {\"outlinewidth\": 0, \"ticks\": \"\"}}, \"type\": \"scatter3d\"}], \"scattercarpet\": [{\"marker\": {\"colorbar\": {\"outlinewidth\": 0, \"ticks\": \"\"}}, \"type\": \"scattercarpet\"}], \"scattergeo\": [{\"marker\": {\"colorbar\": {\"outlinewidth\": 0, \"ticks\": \"\"}}, \"type\": \"scattergeo\"}], \"scattergl\": [{\"marker\": {\"colorbar\": {\"outlinewidth\": 0, \"ticks\": \"\"}}, \"type\": \"scattergl\"}], \"scattermapbox\": [{\"marker\": {\"colorbar\": {\"outlinewidth\": 0, \"ticks\": \"\"}}, \"type\": \"scattermapbox\"}], \"scatterpolar\": [{\"marker\": {\"colorbar\": {\"outlinewidth\": 0, \"ticks\": \"\"}}, \"type\": \"scatterpolar\"}], \"scatterpolargl\": [{\"marker\": {\"colorbar\": {\"outlinewidth\": 0, \"ticks\": \"\"}}, \"type\": \"scatterpolargl\"}], \"scatterternary\": [{\"marker\": {\"colorbar\": {\"outlinewidth\": 0, \"ticks\": \"\"}}, \"type\": \"scatterternary\"}], \"surface\": [{\"colorbar\": {\"outlinewidth\": 0, \"ticks\": \"\"}, \"colorscale\": [[0.0, \"#0d0887\"], [0.1111111111111111, \"#46039f\"], [0.2222222222222222, \"#7201a8\"], [0.3333333333333333, \"#9c179e\"], [0.4444444444444444, \"#bd3786\"], [0.5555555555555556, \"#d8576b\"], [0.6666666666666666, \"#ed7953\"], [0.7777777777777778, \"#fb9f3a\"], [0.8888888888888888, \"#fdca26\"], [1.0, \"#f0f921\"]], \"type\": \"surface\"}], \"table\": [{\"cells\": {\"fill\": {\"color\": \"#EBF0F8\"}, \"line\": {\"color\": \"white\"}}, \"header\": {\"fill\": {\"color\": \"#C8D4E3\"}, \"line\": {\"color\": \"white\"}}, \"type\": \"table\"}]}, \"layout\": {\"annotationdefaults\": {\"arrowcolor\": \"#2a3f5f\", \"arrowhead\": 0, \"arrowwidth\": 1}, \"autotypenumbers\": \"strict\", \"coloraxis\": {\"colorbar\": {\"outlinewidth\": 0, \"ticks\": \"\"}}, \"colorscale\": {\"diverging\": [[0, \"#8e0152\"], [0.1, \"#c51b7d\"], [0.2, \"#de77ae\"], [0.3, \"#f1b6da\"], [0.4, \"#fde0ef\"], [0.5, \"#f7f7f7\"], [0.6, \"#e6f5d0\"], [0.7, \"#b8e186\"], [0.8, \"#7fbc41\"], [0.9, \"#4d9221\"], [1, \"#276419\"]], \"sequential\": [[0.0, \"#0d0887\"], [0.1111111111111111, \"#46039f\"], [0.2222222222222222, \"#7201a8\"], [0.3333333333333333, \"#9c179e\"], [0.4444444444444444, \"#bd3786\"], [0.5555555555555556, \"#d8576b\"], [0.6666666666666666, \"#ed7953\"], [0.7777777777777778, \"#fb9f3a\"], [0.8888888888888888, \"#fdca26\"], [1.0, \"#f0f921\"]], \"sequentialminus\": [[0.0, \"#0d0887\"], [0.1111111111111111, \"#46039f\"], [0.2222222222222222, \"#7201a8\"], [0.3333333333333333, \"#9c179e\"], [0.4444444444444444, \"#bd3786\"], [0.5555555555555556, \"#d8576b\"], [0.6666666666666666, \"#ed7953\"], [0.7777777777777778, \"#fb9f3a\"], [0.8888888888888888, \"#fdca26\"], [1.0, \"#f0f921\"]]}, \"colorway\": [\"#636efa\", \"#EF553B\", \"#00cc96\", \"#ab63fa\", \"#FFA15A\", \"#19d3f3\", \"#FF6692\", \"#B6E880\", \"#FF97FF\", \"#FECB52\"], \"font\": {\"color\": \"#2a3f5f\"}, \"geo\": {\"bgcolor\": \"white\", \"lakecolor\": \"white\", \"landcolor\": \"#E5ECF6\", \"showlakes\": true, \"showland\": true, \"subunitcolor\": \"white\"}, \"hoverlabel\": {\"align\": \"left\"}, \"hovermode\": \"closest\", \"mapbox\": {\"style\": \"light\"}, \"paper_bgcolor\": \"white\", \"plot_bgcolor\": \"#E5ECF6\", \"polar\": {\"angularaxis\": {\"gridcolor\": \"white\", \"linecolor\": \"white\", \"ticks\": \"\"}, \"bgcolor\": \"#E5ECF6\", \"radialaxis\": {\"gridcolor\": \"white\", \"linecolor\": \"white\", \"ticks\": \"\"}}, \"scene\": {\"xaxis\": {\"backgroundcolor\": \"#E5ECF6\", \"gridcolor\": \"white\", \"gridwidth\": 2, \"linecolor\": \"white\", \"showbackground\": true, \"ticks\": \"\", \"zerolinecolor\": \"white\"}, \"yaxis\": {\"backgroundcolor\": \"#E5ECF6\", \"gridcolor\": \"white\", \"gridwidth\": 2, \"linecolor\": \"white\", \"showbackground\": true, \"ticks\": \"\", \"zerolinecolor\": \"white\"}, \"zaxis\": {\"backgroundcolor\": \"#E5ECF6\", \"gridcolor\": \"white\", \"gridwidth\": 2, \"linecolor\": \"white\", \"showbackground\": true, \"ticks\": \"\", \"zerolinecolor\": \"white\"}}, \"shapedefaults\": {\"line\": {\"color\": \"#2a3f5f\"}}, \"ternary\": {\"aaxis\": {\"gridcolor\": \"white\", \"linecolor\": \"white\", \"ticks\": \"\"}, \"baxis\": {\"gridcolor\": \"white\", \"linecolor\": \"white\", \"ticks\": \"\"}, \"bgcolor\": \"#E5ECF6\", \"caxis\": {\"gridcolor\": \"white\", \"linecolor\": \"white\", \"ticks\": \"\"}}, \"title\": {\"x\": 0.05}, \"xaxis\": {\"automargin\": true, \"gridcolor\": \"white\", \"linecolor\": \"white\", \"ticks\": \"\", \"title\": {\"standoff\": 15}, \"zerolinecolor\": \"white\", \"zerolinewidth\": 2}, \"yaxis\": {\"automargin\": true, \"gridcolor\": \"white\", \"linecolor\": \"white\", \"ticks\": \"\", \"title\": {\"standoff\": 15}, \"zerolinecolor\": \"white\", \"zerolinewidth\": 2}}}, \"title\": {\"text\": \".                                          .Distribution of Power Region Wise\"}},                        {\"responsive\": true}                    ).then(function(){\n",
       "                            \n",
       "var gd = document.getElementById('c09f52b0-0ac3-4766-9d23-cad119bf3665');\n",
       "var x = new MutationObserver(function (mutations, observer) {{\n",
       "        var display = window.getComputedStyle(gd).display;\n",
       "        if (!display || display === 'none') {{\n",
       "            console.log([gd, 'removed!']);\n",
       "            Plotly.purge(gd);\n",
       "            observer.disconnect();\n",
       "        }}\n",
       "}});\n",
       "\n",
       "// Listen for the removal of the full notebook cells\n",
       "var notebookContainer = gd.closest('#notebook-container');\n",
       "if (notebookContainer) {{\n",
       "    x.observe(notebookContainer, {childList: true});\n",
       "}}\n",
       "\n",
       "// Listen for the clearing of the current output cell\n",
       "var outputEl = gd.closest('.output');\n",
       "if (outputEl) {{\n",
       "    x.observe(outputEl, {childList: true});\n",
       "}}\n",
       "\n",
       "                        })                };                });            </script>        </div>"
      ]
     },
     "metadata": {},
     "output_type": "display_data"
    }
   ],
   "source": [
    "state = state_df.groupby('Region')['National_Share_in_%'].sum().sort_values(ascending = False)\n",
    "state.index\n",
    "fig = px.pie(state,values = state.values, names=state.index,\n",
    "            title='.                                          .Distribution of Power Region Wise')\n",
    "fig.show()"
   ]
  },
  {
   "cell_type": "code",
   "execution_count": 15,
   "id": "700b421f",
   "metadata": {
    "scrolled": false
   },
   "outputs": [
    {
     "data": {
      "text/html": [
       "<div>\n",
       "<style scoped>\n",
       "    .dataframe tbody tr th:only-of-type {\n",
       "        vertical-align: middle;\n",
       "    }\n",
       "\n",
       "    .dataframe tbody tr th {\n",
       "        vertical-align: top;\n",
       "    }\n",
       "\n",
       "    .dataframe thead th {\n",
       "        text-align: right;\n",
       "    }\n",
       "</style>\n",
       "<table border=\"1\" class=\"dataframe\">\n",
       "  <thead>\n",
       "    <tr style=\"text-align: right;\">\n",
       "      <th></th>\n",
       "      <th>Thermal_Gen_Act_in_MU</th>\n",
       "      <th>Thermal_Gen_Estim_in_MU</th>\n",
       "      <th>Nuclear_Gen_Act_in_MU</th>\n",
       "      <th>Nuclear_Gen_Estim_in_MU</th>\n",
       "      <th>Hydro_Gen_Act_in_MU</th>\n",
       "      <th>Hydro_Gen_Estim_in_MU</th>\n",
       "    </tr>\n",
       "    <tr>\n",
       "      <th>Date</th>\n",
       "      <th></th>\n",
       "      <th></th>\n",
       "      <th></th>\n",
       "      <th></th>\n",
       "      <th></th>\n",
       "      <th></th>\n",
       "    </tr>\n",
       "  </thead>\n",
       "  <tbody>\n",
       "    <tr>\n",
       "      <th>2017-09-01</th>\n",
       "      <td>2777.91</td>\n",
       "      <td>2532.39</td>\n",
       "      <td>192.744415</td>\n",
       "      <td>163.155753</td>\n",
       "      <td>567.42</td>\n",
       "      <td>497.69</td>\n",
       "    </tr>\n",
       "    <tr>\n",
       "      <th>2017-09-02</th>\n",
       "      <td>2777.91</td>\n",
       "      <td>2563.37</td>\n",
       "      <td>192.744415</td>\n",
       "      <td>166.255753</td>\n",
       "      <td>567.42</td>\n",
       "      <td>495.64</td>\n",
       "    </tr>\n",
       "    <tr>\n",
       "      <th>2017-09-03</th>\n",
       "      <td>2777.77</td>\n",
       "      <td>2533.23</td>\n",
       "      <td>192.744415</td>\n",
       "      <td>166.545753</td>\n",
       "      <td>567.42</td>\n",
       "      <td>473.05</td>\n",
       "    </tr>\n",
       "    <tr>\n",
       "      <th>2017-09-04</th>\n",
       "      <td>2777.77</td>\n",
       "      <td>2714.28</td>\n",
       "      <td>192.744415</td>\n",
       "      <td>166.595753</td>\n",
       "      <td>567.42</td>\n",
       "      <td>500.36</td>\n",
       "    </tr>\n",
       "    <tr>\n",
       "      <th>2017-09-05</th>\n",
       "      <td>2790.85</td>\n",
       "      <td>2779.65</td>\n",
       "      <td>192.744415</td>\n",
       "      <td>166.685753</td>\n",
       "      <td>567.42</td>\n",
       "      <td>470.16</td>\n",
       "    </tr>\n",
       "    <tr>\n",
       "      <th>...</th>\n",
       "      <td>...</td>\n",
       "      <td>...</td>\n",
       "      <td>...</td>\n",
       "      <td>...</td>\n",
       "      <td>...</td>\n",
       "      <td>...</td>\n",
       "    </tr>\n",
       "    <tr>\n",
       "      <th>2020-07-28</th>\n",
       "      <td>2961.63</td>\n",
       "      <td>2986.04</td>\n",
       "      <td>205.564415</td>\n",
       "      <td>163.295753</td>\n",
       "      <td>525.77</td>\n",
       "      <td>589.50</td>\n",
       "    </tr>\n",
       "    <tr>\n",
       "      <th>2020-07-29</th>\n",
       "      <td>2961.63</td>\n",
       "      <td>2918.86</td>\n",
       "      <td>205.564415</td>\n",
       "      <td>164.255753</td>\n",
       "      <td>525.77</td>\n",
       "      <td>569.81</td>\n",
       "    </tr>\n",
       "    <tr>\n",
       "      <th>2020-07-30</th>\n",
       "      <td>2974.36</td>\n",
       "      <td>2883.88</td>\n",
       "      <td>205.564415</td>\n",
       "      <td>159.615753</td>\n",
       "      <td>525.77</td>\n",
       "      <td>569.78</td>\n",
       "    </tr>\n",
       "    <tr>\n",
       "      <th>2020-07-31</th>\n",
       "      <td>2984.00</td>\n",
       "      <td>2943.11</td>\n",
       "      <td>205.564415</td>\n",
       "      <td>159.645753</td>\n",
       "      <td>525.77</td>\n",
       "      <td>579.13</td>\n",
       "    </tr>\n",
       "    <tr>\n",
       "      <th>2020-08-01</th>\n",
       "      <td>2797.41</td>\n",
       "      <td>2860.43</td>\n",
       "      <td>205.564415</td>\n",
       "      <td>160.295753</td>\n",
       "      <td>613.97</td>\n",
       "      <td>573.25</td>\n",
       "    </tr>\n",
       "  </tbody>\n",
       "</table>\n",
       "<p>989 rows × 6 columns</p>\n",
       "</div>"
      ],
      "text/plain": [
       "            Thermal_Gen_Act_in_MU  Thermal_Gen_Estim_in_MU  \\\n",
       "Date                                                         \n",
       "2017-09-01                2777.91                  2532.39   \n",
       "2017-09-02                2777.91                  2563.37   \n",
       "2017-09-03                2777.77                  2533.23   \n",
       "2017-09-04                2777.77                  2714.28   \n",
       "2017-09-05                2790.85                  2779.65   \n",
       "...                           ...                      ...   \n",
       "2020-07-28                2961.63                  2986.04   \n",
       "2020-07-29                2961.63                  2918.86   \n",
       "2020-07-30                2974.36                  2883.88   \n",
       "2020-07-31                2984.00                  2943.11   \n",
       "2020-08-01                2797.41                  2860.43   \n",
       "\n",
       "            Nuclear_Gen_Act_in_MU  Nuclear_Gen_Estim_in_MU  \\\n",
       "Date                                                         \n",
       "2017-09-01             192.744415               163.155753   \n",
       "2017-09-02             192.744415               166.255753   \n",
       "2017-09-03             192.744415               166.545753   \n",
       "2017-09-04             192.744415               166.595753   \n",
       "2017-09-05             192.744415               166.685753   \n",
       "...                           ...                      ...   \n",
       "2020-07-28             205.564415               163.295753   \n",
       "2020-07-29             205.564415               164.255753   \n",
       "2020-07-30             205.564415               159.615753   \n",
       "2020-07-31             205.564415               159.645753   \n",
       "2020-08-01             205.564415               160.295753   \n",
       "\n",
       "            Hydro_Gen_Act_in_MU  Hydro_Gen_Estim_in_MU  \n",
       "Date                                                    \n",
       "2017-09-01               567.42                 497.69  \n",
       "2017-09-02               567.42                 495.64  \n",
       "2017-09-03               567.42                 473.05  \n",
       "2017-09-04               567.42                 500.36  \n",
       "2017-09-05               567.42                 470.16  \n",
       "...                         ...                    ...  \n",
       "2020-07-28               525.77                 589.50  \n",
       "2020-07-29               525.77                 569.81  \n",
       "2020-07-30               525.77                 569.78  \n",
       "2020-07-31               525.77                 579.13  \n",
       "2020-08-01               613.97                 573.25  \n",
       "\n",
       "[989 rows x 6 columns]"
      ]
     },
     "execution_count": 15,
     "metadata": {},
     "output_type": "execute_result"
    }
   ],
   "source": [
    "daily_gen = data.groupby(\"Date\").sum()\n",
    "daily_gen"
   ]
  },
  {
   "cell_type": "code",
   "execution_count": 16,
   "id": "11e5f75b",
   "metadata": {},
   "outputs": [
    {
     "data": {
      "image/png": "[encoded data removed]",
      "text/plain": [
       "<Figure size 1440x576 with 1 Axes>"
      ]
     },
     "metadata": {
      "needs_background": "light"
     },
     "output_type": "display_data"
    }
   ],
   "source": [
    "plt.figure(figsize=(20,8))\n",
    "plt.plot(daily_gen.Thermal_Gen_Act_in_MU, label= 'Thermal Generation Actual (MU)', linewidth=1)\n",
    "plt.plot(daily_gen.Nuclear_Gen_Act_in_MU, label= 'Nuclear Generation Actual (MU)', linewidth=1)\n",
    "plt.plot(daily_gen.Hydro_Gen_Act_in_MU, label= 'Hydro Generation Actual (MU)', linewidth=1)\n",
    "plt.title(\"Daily Generation in the India (2017 - 2020)\")\n",
    "plt.xlabel(\"Dates\")\n",
    "plt.ylabel(\"Generation\")\n",
    "plt.legend()\n",
    "plt.show()"
   ]
  },
  {
   "cell_type": "code",
   "execution_count": 17,
   "id": "8c512436",
   "metadata": {},
   "outputs": [
    {
     "data": {
      "text/plain": [
       "<AxesSubplot:>"
      ]
     },
     "execution_count": 17,
     "metadata": {},
     "output_type": "execute_result"
    },
    {
     "data": {
      "image/png": "[encoded data removed]",
      "text/plain": [
       "<Figure size 432x288 with 2 Axes>"
      ]
     },
     "metadata": {
      "needs_background": "light"
     },
     "output_type": "display_data"
    }
   ],
   "source": [
    "# correlation in the data\n",
    "sns.heatmap(data.corr())"
   ]
  },
  {
   "cell_type": "markdown",
   "id": "9089a573",
   "metadata": {},
   "source": [
    "# Creating Year and Month Columns"
   ]
  },
  {
   "cell_type": "code",
   "execution_count": 18,
   "id": "8abb7cec",
   "metadata": {},
   "outputs": [
    {
     "name": "stderr",
     "output_type": "stream",
     "text": [
      "<ipython-input-18-3d7b63e85c63>:1: DeprecationWarning:\n",
      "\n",
      "`np.int` is a deprecated alias for the builtin `int`. To silence this warning, use `int` by itself. Doing this will not modify any behavior and is safe. When replacing `np.int`, you may wish to use e.g. `np.int64` or `np.int32` to specify the precision. If you wish to review your current use, check the release note link for additional information.\n",
      "Deprecated in NumPy 1.20; for more details and guidance: https://numpy.org/devdocs/release/1.20.0-notes.html#deprecations\n",
      "\n",
      "<ipython-input-18-3d7b63e85c63>:2: DeprecationWarning:\n",
      "\n",
      "`np.int` is a deprecated alias for the builtin `int`. To silence this warning, use `int` by itself. Doing this will not modify any behavior and is safe. When replacing `np.int`, you may wish to use e.g. `np.int64` or `np.int32` to specify the precision. If you wish to review your current use, check the release note link for additional information.\n",
      "Deprecated in NumPy 1.20; for more details and guidance: https://numpy.org/devdocs/release/1.20.0-notes.html#deprecations\n",
      "\n"
     ]
    }
   ],
   "source": [
    "data['Year'] = data['Date'].apply(lambda x: np.int(x[0:4]))\n",
    "data['Month'] = data['Date'].apply(lambda x: np.int(x[5:7]))\n",
    "data = data.drop('Date', axis=1)"
   ]
  },
  {
   "cell_type": "code",
   "execution_count": 19,
   "id": "b7cd4bef",
   "metadata": {},
   "outputs": [
    {
     "data": {
      "text/html": [
       "<div>\n",
       "<style scoped>\n",
       "    .dataframe tbody tr th:only-of-type {\n",
       "        vertical-align: middle;\n",
       "    }\n",
       "\n",
       "    .dataframe tbody tr th {\n",
       "        vertical-align: top;\n",
       "    }\n",
       "\n",
       "    .dataframe thead th {\n",
       "        text-align: right;\n",
       "    }\n",
       "</style>\n",
       "<table border=\"1\" class=\"dataframe\">\n",
       "  <thead>\n",
       "    <tr style=\"text-align: right;\">\n",
       "      <th></th>\n",
       "      <th>Region</th>\n",
       "      <th>Thermal_Gen_Act_in_MU</th>\n",
       "      <th>Thermal_Gen_Estim_in_MU</th>\n",
       "      <th>Nuclear_Gen_Act_in_MU</th>\n",
       "      <th>Nuclear_Gen_Estim_in_MU</th>\n",
       "      <th>Hydro_Gen_Act_in_MU</th>\n",
       "      <th>Hydro_Gen_Estim_in_MU</th>\n",
       "      <th>Year</th>\n",
       "      <th>Month</th>\n",
       "    </tr>\n",
       "  </thead>\n",
       "  <tbody>\n",
       "    <tr>\n",
       "      <th>0</th>\n",
       "      <td>Northern</td>\n",
       "      <td>624.23</td>\n",
       "      <td>484.21</td>\n",
       "      <td>30.360000</td>\n",
       "      <td>35.570000</td>\n",
       "      <td>273.27</td>\n",
       "      <td>320.81</td>\n",
       "      <td>2017</td>\n",
       "      <td>9</td>\n",
       "    </tr>\n",
       "    <tr>\n",
       "      <th>1</th>\n",
       "      <td>Western</td>\n",
       "      <td>1106.89</td>\n",
       "      <td>1024.33</td>\n",
       "      <td>25.170000</td>\n",
       "      <td>3.810000</td>\n",
       "      <td>72.00</td>\n",
       "      <td>21.53</td>\n",
       "      <td>2017</td>\n",
       "      <td>9</td>\n",
       "    </tr>\n",
       "    <tr>\n",
       "      <th>2</th>\n",
       "      <td>Southern</td>\n",
       "      <td>576.66</td>\n",
       "      <td>578.55</td>\n",
       "      <td>62.730000</td>\n",
       "      <td>49.800000</td>\n",
       "      <td>111.57</td>\n",
       "      <td>64.78</td>\n",
       "      <td>2017</td>\n",
       "      <td>9</td>\n",
       "    </tr>\n",
       "    <tr>\n",
       "      <th>3</th>\n",
       "      <td>Eastern</td>\n",
       "      <td>441.02</td>\n",
       "      <td>429.39</td>\n",
       "      <td>37.242208</td>\n",
       "      <td>36.987877</td>\n",
       "      <td>85.94</td>\n",
       "      <td>69.36</td>\n",
       "      <td>2017</td>\n",
       "      <td>9</td>\n",
       "    </tr>\n",
       "    <tr>\n",
       "      <th>4</th>\n",
       "      <td>NorthEastern</td>\n",
       "      <td>29.11</td>\n",
       "      <td>15.91</td>\n",
       "      <td>37.242208</td>\n",
       "      <td>36.987877</td>\n",
       "      <td>24.64</td>\n",
       "      <td>21.21</td>\n",
       "      <td>2017</td>\n",
       "      <td>9</td>\n",
       "    </tr>\n",
       "    <tr>\n",
       "      <th>...</th>\n",
       "      <td>...</td>\n",
       "      <td>...</td>\n",
       "      <td>...</td>\n",
       "      <td>...</td>\n",
       "      <td>...</td>\n",
       "      <td>...</td>\n",
       "      <td>...</td>\n",
       "      <td>...</td>\n",
       "      <td>...</td>\n",
       "    </tr>\n",
       "    <tr>\n",
       "      <th>4940</th>\n",
       "      <td>Northern</td>\n",
       "      <td>669.47</td>\n",
       "      <td>602.96</td>\n",
       "      <td>26.880000</td>\n",
       "      <td>23.410000</td>\n",
       "      <td>348.72</td>\n",
       "      <td>351.98</td>\n",
       "      <td>2020</td>\n",
       "      <td>8</td>\n",
       "    </tr>\n",
       "    <tr>\n",
       "      <th>4941</th>\n",
       "      <td>Western</td>\n",
       "      <td>1116.00</td>\n",
       "      <td>1262.10</td>\n",
       "      <td>42.370000</td>\n",
       "      <td>36.630000</td>\n",
       "      <td>54.67</td>\n",
       "      <td>20.28</td>\n",
       "      <td>2020</td>\n",
       "      <td>8</td>\n",
       "    </tr>\n",
       "    <tr>\n",
       "      <th>4942</th>\n",
       "      <td>Southern</td>\n",
       "      <td>494.66</td>\n",
       "      <td>415.53</td>\n",
       "      <td>61.830000</td>\n",
       "      <td>26.280000</td>\n",
       "      <td>93.49</td>\n",
       "      <td>77.25</td>\n",
       "      <td>2020</td>\n",
       "      <td>8</td>\n",
       "    </tr>\n",
       "    <tr>\n",
       "      <th>4943</th>\n",
       "      <td>Eastern</td>\n",
       "      <td>482.86</td>\n",
       "      <td>547.03</td>\n",
       "      <td>37.242208</td>\n",
       "      <td>36.987877</td>\n",
       "      <td>87.22</td>\n",
       "      <td>93.78</td>\n",
       "      <td>2020</td>\n",
       "      <td>8</td>\n",
       "    </tr>\n",
       "    <tr>\n",
       "      <th>4944</th>\n",
       "      <td>NorthEastern</td>\n",
       "      <td>34.42</td>\n",
       "      <td>32.81</td>\n",
       "      <td>37.242208</td>\n",
       "      <td>36.987877</td>\n",
       "      <td>29.87</td>\n",
       "      <td>29.96</td>\n",
       "      <td>2020</td>\n",
       "      <td>8</td>\n",
       "    </tr>\n",
       "  </tbody>\n",
       "</table>\n",
       "<p>4945 rows × 9 columns</p>\n",
       "</div>"
      ],
      "text/plain": [
       "            Region  Thermal_Gen_Act_in_MU  Thermal_Gen_Estim_in_MU  \\\n",
       "0         Northern                 624.23                   484.21   \n",
       "1          Western                1106.89                  1024.33   \n",
       "2         Southern                 576.66                   578.55   \n",
       "3          Eastern                 441.02                   429.39   \n",
       "4     NorthEastern                  29.11                    15.91   \n",
       "...            ...                    ...                      ...   \n",
       "4940      Northern                 669.47                   602.96   \n",
       "4941       Western                1116.00                  1262.10   \n",
       "4942      Southern                 494.66                   415.53   \n",
       "4943       Eastern                 482.86                   547.03   \n",
       "4944  NorthEastern                  34.42                    32.81   \n",
       "\n",
       "      Nuclear_Gen_Act_in_MU  Nuclear_Gen_Estim_in_MU  Hydro_Gen_Act_in_MU  \\\n",
       "0                 30.360000                35.570000               273.27   \n",
       "1                 25.170000                 3.810000                72.00   \n",
       "2                 62.730000                49.800000               111.57   \n",
       "3                 37.242208                36.987877                85.94   \n",
       "4                 37.242208                36.987877                24.64   \n",
       "...                     ...                      ...                  ...   \n",
       "4940              26.880000                23.410000               348.72   \n",
       "4941              42.370000                36.630000                54.67   \n",
       "4942              61.830000                26.280000                93.49   \n",
       "4943              37.242208                36.987877                87.22   \n",
       "4944              37.242208                36.987877                29.87   \n",
       "\n",
       "      Hydro_Gen_Estim_in_MU  Year  Month  \n",
       "0                    320.81  2017      9  \n",
       "1                     21.53  2017      9  \n",
       "2                     64.78  2017      9  \n",
       "3                     69.36  2017      9  \n",
       "4                     21.21  2017      9  \n",
       "...                     ...   ...    ...  \n",
       "4940                 351.98  2020      8  \n",
       "4941                  20.28  2020      8  \n",
       "4942                  77.25  2020      8  \n",
       "4943                  93.78  2020      8  \n",
       "4944                  29.96  2020      8  \n",
       "\n",
       "[4945 rows x 9 columns]"
      ]
     },
     "execution_count": 19,
     "metadata": {},
     "output_type": "execute_result"
    }
   ],
   "source": [
    "data"
   ]
  },
  {
   "cell_type": "markdown",
   "id": "bb5f5c50",
   "metadata": {},
   "source": [
    "# Encoding Labels"
   ]
  },
  {
   "cell_type": "code",
   "execution_count": 20,
   "id": "fd06759c",
   "metadata": {},
   "outputs": [],
   "source": [
    "label_encoder = LabelEncoder()\n",
    "\n",
    "data['Region'] = label_encoder.fit_transform(data['Region'])"
   ]
  },
  {
   "cell_type": "code",
   "execution_count": 21,
   "id": "76bc3eaa",
   "metadata": {
    "scrolled": true
   },
   "outputs": [
    {
     "data": {
      "text/html": [
       "<div>\n",
       "<style scoped>\n",
       "    .dataframe tbody tr th:only-of-type {\n",
       "        vertical-align: middle;\n",
       "    }\n",
       "\n",
       "    .dataframe tbody tr th {\n",
       "        vertical-align: top;\n",
       "    }\n",
       "\n",
       "    .dataframe thead th {\n",
       "        text-align: right;\n",
       "    }\n",
       "</style>\n",
       "<table border=\"1\" class=\"dataframe\">\n",
       "  <thead>\n",
       "    <tr style=\"text-align: right;\">\n",
       "      <th></th>\n",
       "      <th>Region</th>\n",
       "      <th>Thermal_Gen_Act_in_MU</th>\n",
       "      <th>Thermal_Gen_Estim_in_MU</th>\n",
       "      <th>Nuclear_Gen_Act_in_MU</th>\n",
       "      <th>Nuclear_Gen_Estim_in_MU</th>\n",
       "      <th>Hydro_Gen_Act_in_MU</th>\n",
       "      <th>Hydro_Gen_Estim_in_MU</th>\n",
       "      <th>Year</th>\n",
       "      <th>Month</th>\n",
       "    </tr>\n",
       "  </thead>\n",
       "  <tbody>\n",
       "    <tr>\n",
       "      <th>0</th>\n",
       "      <td>2</td>\n",
       "      <td>624.23</td>\n",
       "      <td>484.21</td>\n",
       "      <td>30.360000</td>\n",
       "      <td>35.570000</td>\n",
       "      <td>273.27</td>\n",
       "      <td>320.81</td>\n",
       "      <td>2017</td>\n",
       "      <td>9</td>\n",
       "    </tr>\n",
       "    <tr>\n",
       "      <th>1</th>\n",
       "      <td>4</td>\n",
       "      <td>1106.89</td>\n",
       "      <td>1024.33</td>\n",
       "      <td>25.170000</td>\n",
       "      <td>3.810000</td>\n",
       "      <td>72.00</td>\n",
       "      <td>21.53</td>\n",
       "      <td>2017</td>\n",
       "      <td>9</td>\n",
       "    </tr>\n",
       "    <tr>\n",
       "      <th>2</th>\n",
       "      <td>3</td>\n",
       "      <td>576.66</td>\n",
       "      <td>578.55</td>\n",
       "      <td>62.730000</td>\n",
       "      <td>49.800000</td>\n",
       "      <td>111.57</td>\n",
       "      <td>64.78</td>\n",
       "      <td>2017</td>\n",
       "      <td>9</td>\n",
       "    </tr>\n",
       "    <tr>\n",
       "      <th>3</th>\n",
       "      <td>0</td>\n",
       "      <td>441.02</td>\n",
       "      <td>429.39</td>\n",
       "      <td>37.242208</td>\n",
       "      <td>36.987877</td>\n",
       "      <td>85.94</td>\n",
       "      <td>69.36</td>\n",
       "      <td>2017</td>\n",
       "      <td>9</td>\n",
       "    </tr>\n",
       "    <tr>\n",
       "      <th>4</th>\n",
       "      <td>1</td>\n",
       "      <td>29.11</td>\n",
       "      <td>15.91</td>\n",
       "      <td>37.242208</td>\n",
       "      <td>36.987877</td>\n",
       "      <td>24.64</td>\n",
       "      <td>21.21</td>\n",
       "      <td>2017</td>\n",
       "      <td>9</td>\n",
       "    </tr>\n",
       "    <tr>\n",
       "      <th>...</th>\n",
       "      <td>...</td>\n",
       "      <td>...</td>\n",
       "      <td>...</td>\n",
       "      <td>...</td>\n",
       "      <td>...</td>\n",
       "      <td>...</td>\n",
       "      <td>...</td>\n",
       "      <td>...</td>\n",
       "      <td>...</td>\n",
       "    </tr>\n",
       "    <tr>\n",
       "      <th>4940</th>\n",
       "      <td>2</td>\n",
       "      <td>669.47</td>\n",
       "      <td>602.96</td>\n",
       "      <td>26.880000</td>\n",
       "      <td>23.410000</td>\n",
       "      <td>348.72</td>\n",
       "      <td>351.98</td>\n",
       "      <td>2020</td>\n",
       "      <td>8</td>\n",
       "    </tr>\n",
       "    <tr>\n",
       "      <th>4941</th>\n",
       "      <td>4</td>\n",
       "      <td>1116.00</td>\n",
       "      <td>1262.10</td>\n",
       "      <td>42.370000</td>\n",
       "      <td>36.630000</td>\n",
       "      <td>54.67</td>\n",
       "      <td>20.28</td>\n",
       "      <td>2020</td>\n",
       "      <td>8</td>\n",
       "    </tr>\n",
       "    <tr>\n",
       "      <th>4942</th>\n",
       "      <td>3</td>\n",
       "      <td>494.66</td>\n",
       "      <td>415.53</td>\n",
       "      <td>61.830000</td>\n",
       "      <td>26.280000</td>\n",
       "      <td>93.49</td>\n",
       "      <td>77.25</td>\n",
       "      <td>2020</td>\n",
       "      <td>8</td>\n",
       "    </tr>\n",
       "    <tr>\n",
       "      <th>4943</th>\n",
       "      <td>0</td>\n",
       "      <td>482.86</td>\n",
       "      <td>547.03</td>\n",
       "      <td>37.242208</td>\n",
       "      <td>36.987877</td>\n",
       "      <td>87.22</td>\n",
       "      <td>93.78</td>\n",
       "      <td>2020</td>\n",
       "      <td>8</td>\n",
       "    </tr>\n",
       "    <tr>\n",
       "      <th>4944</th>\n",
       "      <td>1</td>\n",
       "      <td>34.42</td>\n",
       "      <td>32.81</td>\n",
       "      <td>37.242208</td>\n",
       "      <td>36.987877</td>\n",
       "      <td>29.87</td>\n",
       "      <td>29.96</td>\n",
       "      <td>2020</td>\n",
       "      <td>8</td>\n",
       "    </tr>\n",
       "  </tbody>\n",
       "</table>\n",
       "<p>4945 rows × 9 columns</p>\n",
       "</div>"
      ],
      "text/plain": [
       "      Region  Thermal_Gen_Act_in_MU  Thermal_Gen_Estim_in_MU  \\\n",
       "0          2                 624.23                   484.21   \n",
       "1          4                1106.89                  1024.33   \n",
       "2          3                 576.66                   578.55   \n",
       "3          0                 441.02                   429.39   \n",
       "4          1                  29.11                    15.91   \n",
       "...      ...                    ...                      ...   \n",
       "4940       2                 669.47                   602.96   \n",
       "4941       4                1116.00                  1262.10   \n",
       "4942       3                 494.66                   415.53   \n",
       "4943       0                 482.86                   547.03   \n",
       "4944       1                  34.42                    32.81   \n",
       "\n",
       "      Nuclear_Gen_Act_in_MU  Nuclear_Gen_Estim_in_MU  Hydro_Gen_Act_in_MU  \\\n",
       "0                 30.360000                35.570000               273.27   \n",
       "1                 25.170000                 3.810000                72.00   \n",
       "2                 62.730000                49.800000               111.57   \n",
       "3                 37.242208                36.987877                85.94   \n",
       "4                 37.242208                36.987877                24.64   \n",
       "...                     ...                      ...                  ...   \n",
       "4940              26.880000                23.410000               348.72   \n",
       "4941              42.370000                36.630000                54.67   \n",
       "4942              61.830000                26.280000                93.49   \n",
       "4943              37.242208                36.987877                87.22   \n",
       "4944              37.242208                36.987877                29.87   \n",
       "\n",
       "      Hydro_Gen_Estim_in_MU  Year  Month  \n",
       "0                    320.81  2017      9  \n",
       "1                     21.53  2017      9  \n",
       "2                     64.78  2017      9  \n",
       "3                     69.36  2017      9  \n",
       "4                     21.21  2017      9  \n",
       "...                     ...   ...    ...  \n",
       "4940                 351.98  2020      8  \n",
       "4941                  20.28  2020      8  \n",
       "4942                  77.25  2020      8  \n",
       "4943                  93.78  2020      8  \n",
       "4944                  29.96  2020      8  \n",
       "\n",
       "[4945 rows x 9 columns]"
      ]
     },
     "execution_count": 21,
     "metadata": {},
     "output_type": "execute_result"
    }
   ],
   "source": [
    "data"
   ]
  },
  {
   "cell_type": "code",
   "execution_count": 22,
   "id": "5d07e6bb",
   "metadata": {},
   "outputs": [
    {
     "data": {
      "text/plain": [
       "Region                       int32\n",
       "Thermal_Gen_Act_in_MU      float64\n",
       "Thermal_Gen_Estim_in_MU    float64\n",
       "Nuclear_Gen_Act_in_MU      float64\n",
       "Nuclear_Gen_Estim_in_MU    float64\n",
       "Hydro_Gen_Act_in_MU        float64\n",
       "Hydro_Gen_Estim_in_MU      float64\n",
       "Year                         int64\n",
       "Month                        int64\n",
       "dtype: object"
      ]
     },
     "execution_count": 22,
     "metadata": {},
     "output_type": "execute_result"
    }
   ],
   "source": [
    "data.dtypes"
   ]
  },
  {
   "cell_type": "code",
   "execution_count": 23,
   "id": "b433242b",
   "metadata": {},
   "outputs": [
    {
     "data": {
      "text/html": [
       "<div>\n",
       "<style scoped>\n",
       "    .dataframe tbody tr th:only-of-type {\n",
       "        vertical-align: middle;\n",
       "    }\n",
       "\n",
       "    .dataframe tbody tr th {\n",
       "        vertical-align: top;\n",
       "    }\n",
       "\n",
       "    .dataframe thead th {\n",
       "        text-align: right;\n",
       "    }\n",
       "</style>\n",
       "<table border=\"1\" class=\"dataframe\">\n",
       "  <thead>\n",
       "    <tr style=\"text-align: right;\">\n",
       "      <th></th>\n",
       "      <th>Region</th>\n",
       "      <th>Thermal_Gen_Act_in_MU</th>\n",
       "      <th>Thermal_Gen_Estim_in_MU</th>\n",
       "      <th>Nuclear_Gen_Act_in_MU</th>\n",
       "      <th>Nuclear_Gen_Estim_in_MU</th>\n",
       "      <th>Hydro_Gen_Act_in_MU</th>\n",
       "      <th>Hydro_Gen_Estim_in_MU</th>\n",
       "      <th>Year</th>\n",
       "      <th>Month</th>\n",
       "      <th>Total_Gen_Act_MU</th>\n",
       "      <th>Total_Gen_Estim_MU</th>\n",
       "    </tr>\n",
       "  </thead>\n",
       "  <tbody>\n",
       "    <tr>\n",
       "      <th>0</th>\n",
       "      <td>2</td>\n",
       "      <td>624.23</td>\n",
       "      <td>484.21</td>\n",
       "      <td>30.360000</td>\n",
       "      <td>35.570000</td>\n",
       "      <td>273.27</td>\n",
       "      <td>320.81</td>\n",
       "      <td>2017</td>\n",
       "      <td>9</td>\n",
       "      <td>927.860000</td>\n",
       "      <td>840.590000</td>\n",
       "    </tr>\n",
       "    <tr>\n",
       "      <th>1</th>\n",
       "      <td>4</td>\n",
       "      <td>1106.89</td>\n",
       "      <td>1024.33</td>\n",
       "      <td>25.170000</td>\n",
       "      <td>3.810000</td>\n",
       "      <td>72.00</td>\n",
       "      <td>21.53</td>\n",
       "      <td>2017</td>\n",
       "      <td>9</td>\n",
       "      <td>1204.060000</td>\n",
       "      <td>1049.670000</td>\n",
       "    </tr>\n",
       "    <tr>\n",
       "      <th>2</th>\n",
       "      <td>3</td>\n",
       "      <td>576.66</td>\n",
       "      <td>578.55</td>\n",
       "      <td>62.730000</td>\n",
       "      <td>49.800000</td>\n",
       "      <td>111.57</td>\n",
       "      <td>64.78</td>\n",
       "      <td>2017</td>\n",
       "      <td>9</td>\n",
       "      <td>750.960000</td>\n",
       "      <td>693.130000</td>\n",
       "    </tr>\n",
       "    <tr>\n",
       "      <th>3</th>\n",
       "      <td>0</td>\n",
       "      <td>441.02</td>\n",
       "      <td>429.39</td>\n",
       "      <td>37.242208</td>\n",
       "      <td>36.987877</td>\n",
       "      <td>85.94</td>\n",
       "      <td>69.36</td>\n",
       "      <td>2017</td>\n",
       "      <td>9</td>\n",
       "      <td>564.202208</td>\n",
       "      <td>535.737877</td>\n",
       "    </tr>\n",
       "    <tr>\n",
       "      <th>4</th>\n",
       "      <td>1</td>\n",
       "      <td>29.11</td>\n",
       "      <td>15.91</td>\n",
       "      <td>37.242208</td>\n",
       "      <td>36.987877</td>\n",
       "      <td>24.64</td>\n",
       "      <td>21.21</td>\n",
       "      <td>2017</td>\n",
       "      <td>9</td>\n",
       "      <td>90.992208</td>\n",
       "      <td>74.107877</td>\n",
       "    </tr>\n",
       "    <tr>\n",
       "      <th>...</th>\n",
       "      <td>...</td>\n",
       "      <td>...</td>\n",
       "      <td>...</td>\n",
       "      <td>...</td>\n",
       "      <td>...</td>\n",
       "      <td>...</td>\n",
       "      <td>...</td>\n",
       "      <td>...</td>\n",
       "      <td>...</td>\n",
       "      <td>...</td>\n",
       "      <td>...</td>\n",
       "    </tr>\n",
       "    <tr>\n",
       "      <th>4940</th>\n",
       "      <td>2</td>\n",
       "      <td>669.47</td>\n",
       "      <td>602.96</td>\n",
       "      <td>26.880000</td>\n",
       "      <td>23.410000</td>\n",
       "      <td>348.72</td>\n",
       "      <td>351.98</td>\n",
       "      <td>2020</td>\n",
       "      <td>8</td>\n",
       "      <td>1045.070000</td>\n",
       "      <td>978.350000</td>\n",
       "    </tr>\n",
       "    <tr>\n",
       "      <th>4941</th>\n",
       "      <td>4</td>\n",
       "      <td>1116.00</td>\n",
       "      <td>1262.10</td>\n",
       "      <td>42.370000</td>\n",
       "      <td>36.630000</td>\n",
       "      <td>54.67</td>\n",
       "      <td>20.28</td>\n",
       "      <td>2020</td>\n",
       "      <td>8</td>\n",
       "      <td>1213.040000</td>\n",
       "      <td>1319.010000</td>\n",
       "    </tr>\n",
       "    <tr>\n",
       "      <th>4942</th>\n",
       "      <td>3</td>\n",
       "      <td>494.66</td>\n",
       "      <td>415.53</td>\n",
       "      <td>61.830000</td>\n",
       "      <td>26.280000</td>\n",
       "      <td>93.49</td>\n",
       "      <td>77.25</td>\n",
       "      <td>2020</td>\n",
       "      <td>8</td>\n",
       "      <td>649.980000</td>\n",
       "      <td>519.060000</td>\n",
       "    </tr>\n",
       "    <tr>\n",
       "      <th>4943</th>\n",
       "      <td>0</td>\n",
       "      <td>482.86</td>\n",
       "      <td>547.03</td>\n",
       "      <td>37.242208</td>\n",
       "      <td>36.987877</td>\n",
       "      <td>87.22</td>\n",
       "      <td>93.78</td>\n",
       "      <td>2020</td>\n",
       "      <td>8</td>\n",
       "      <td>607.322208</td>\n",
       "      <td>677.797877</td>\n",
       "    </tr>\n",
       "    <tr>\n",
       "      <th>4944</th>\n",
       "      <td>1</td>\n",
       "      <td>34.42</td>\n",
       "      <td>32.81</td>\n",
       "      <td>37.242208</td>\n",
       "      <td>36.987877</td>\n",
       "      <td>29.87</td>\n",
       "      <td>29.96</td>\n",
       "      <td>2020</td>\n",
       "      <td>8</td>\n",
       "      <td>101.532208</td>\n",
       "      <td>99.757877</td>\n",
       "    </tr>\n",
       "  </tbody>\n",
       "</table>\n",
       "<p>4945 rows × 11 columns</p>\n",
       "</div>"
      ],
      "text/plain": [
       "      Region  Thermal_Gen_Act_in_MU  Thermal_Gen_Estim_in_MU  \\\n",
       "0          2                 624.23                   484.21   \n",
       "1          4                1106.89                  1024.33   \n",
       "2          3                 576.66                   578.55   \n",
       "3          0                 441.02                   429.39   \n",
       "4          1                  29.11                    15.91   \n",
       "...      ...                    ...                      ...   \n",
       "4940       2                 669.47                   602.96   \n",
       "4941       4                1116.00                  1262.10   \n",
       "4942       3                 494.66                   415.53   \n",
       "4943       0                 482.86                   547.03   \n",
       "4944       1                  34.42                    32.81   \n",
       "\n",
       "      Nuclear_Gen_Act_in_MU  Nuclear_Gen_Estim_in_MU  Hydro_Gen_Act_in_MU  \\\n",
       "0                 30.360000                35.570000               273.27   \n",
       "1                 25.170000                 3.810000                72.00   \n",
       "2                 62.730000                49.800000               111.57   \n",
       "3                 37.242208                36.987877                85.94   \n",
       "4                 37.242208                36.987877                24.64   \n",
       "...                     ...                      ...                  ...   \n",
       "4940              26.880000                23.410000               348.72   \n",
       "4941              42.370000                36.630000                54.67   \n",
       "4942              61.830000                26.280000                93.49   \n",
       "4943              37.242208                36.987877                87.22   \n",
       "4944              37.242208                36.987877                29.87   \n",
       "\n",
       "      Hydro_Gen_Estim_in_MU  Year  Month  Total_Gen_Act_MU  Total_Gen_Estim_MU  \n",
       "0                    320.81  2017      9        927.860000          840.590000  \n",
       "1                     21.53  2017      9       1204.060000         1049.670000  \n",
       "2                     64.78  2017      9        750.960000          693.130000  \n",
       "3                     69.36  2017      9        564.202208          535.737877  \n",
       "4                     21.21  2017      9         90.992208           74.107877  \n",
       "...                     ...   ...    ...               ...                 ...  \n",
       "4940                 351.98  2020      8       1045.070000          978.350000  \n",
       "4941                  20.28  2020      8       1213.040000         1319.010000  \n",
       "4942                  77.25  2020      8        649.980000          519.060000  \n",
       "4943                  93.78  2020      8        607.322208          677.797877  \n",
       "4944                  29.96  2020      8        101.532208           99.757877  \n",
       "\n",
       "[4945 rows x 11 columns]"
      ]
     },
     "execution_count": 23,
     "metadata": {},
     "output_type": "execute_result"
    }
   ],
   "source": [
    "data['Total_Gen_Act_MU'] = data[['Thermal_Gen_Act_in_MU', 'Nuclear_Gen_Act_in_MU', 'Hydro_Gen_Act_in_MU']].sum(axis=1)\n",
    "data['Total_Gen_Estim_MU'] = data[['Thermal_Gen_Estim_in_MU', 'Nuclear_Gen_Estim_in_MU', 'Hydro_Gen_Estim_in_MU']].sum(axis=1)\n",
    "data"
   ]
  },
  {
   "cell_type": "markdown",
   "id": "8529e830",
   "metadata": {},
   "source": [
    "# Splitting/Scaling"
   ]
  },
  {
   "cell_type": "code",
   "execution_count": 24,
   "id": "7aa92fbf",
   "metadata": {},
   "outputs": [],
   "source": [
    "  y = data['Region'].copy()\n",
    "X = data.drop('Region', axis=1).copy()"
   ]
  },
  {
   "cell_type": "code",
   "execution_count": 25,
   "id": "7af81138",
   "metadata": {},
   "outputs": [],
   "source": [
    "scaler = StandardScaler()\n",
    "X = scaler.fit_transform(X)"
   ]
  },
  {
   "cell_type": "code",
   "execution_count": 26,
   "id": "7768f54a",
   "metadata": {},
   "outputs": [],
   "source": [
    "X_train, X_test, y_train, y_test = train_test_split(X, y, train_size=0.7)"
   ]
  },
  {
   "cell_type": "markdown",
   "id": "a2e5320d",
   "metadata": {},
   "source": [
    "# Modeling/Training"
   ]
  },
  {
   "cell_type": "code",
   "execution_count": 27,
   "id": "92d7f230",
   "metadata": {},
   "outputs": [],
   "source": [
    "models = [\n",
    "    LogisticRegression(),\n",
    "    SVC(),\n",
    "    MLPClassifier(),\n",
    "    DecisionTreeClassifier(),\n",
    "    AdaBoostClassifier(),\n",
    "    BaggingClassifier(),\n",
    "    GradientBoostingClassifier(),\n",
    "    RandomForestClassifier()\n",
    "]\n",
    "\n",
    "model_names = [\n",
    "    \"         Logistic Regression\",\n",
    "    \"      Support Vector Machine\",\n",
    "    \"              Neural Network\",\n",
    "    \"               Decision Tree\",\n",
    "    \"         AdaBoost Classifier\",\n",
    "    \"          Bagging Classifier\",\n",
    "    \"Gradient Boosting Classifier\",\n",
    "    \"    Random Forest Classifier\"\n",
    "]"
   ]
  },
  {
   "cell_type": "code",
   "execution_count": 28,
   "id": "13720676",
   "metadata": {
    "scrolled": true
   },
   "outputs": [],
   "source": [
    "results = []\n",
    "\n",
    "for i in range(len(models)):\n",
    "    models[i].fit(X_train, y_train)\n",
    "    results.append(models[i].score(X_test, y_test))"
   ]
  },
  {
   "cell_type": "markdown",
   "id": "05019330",
   "metadata": {},
   "source": [
    "# Results"
   ]
  },
  {
   "cell_type": "code",
   "execution_count": 29,
   "id": "0ae230b6",
   "metadata": {},
   "outputs": [
    {
     "name": "stdout",
     "output_type": "stream",
     "text": [
      "         Logistic Regression: 0.99865\n",
      "      Support Vector Machine: 1.00000\n",
      "              Neural Network: 1.00000\n",
      "               Decision Tree: 1.00000\n",
      "         AdaBoost Classifier: 0.59906\n",
      "          Bagging Classifier: 1.00000\n",
      "Gradient Boosting Classifier: 1.00000\n",
      "    Random Forest Classifier: 1.00000\n"
     ]
    }
   ],
   "source": [
    "for i in range(len(models)):\n",
    "    print(model_names[i] + \": {:.5f}\".format(results[i]))"
   ]
  },
  {
   "cell_type": "code",
   "execution_count": 30,
   "id": "d1ba2f6a",
   "metadata": {},
   "outputs": [],
   "source": [
    "from sklearn.preprocessing import Normalizer\n",
    "from sklearn.linear_model import LinearRegression"
   ]
  },
  {
   "cell_type": "code",
   "execution_count": 31,
   "id": "6cd33db6",
   "metadata": {},
   "outputs": [],
   "source": [
    "x1 = data[['Total_Gen_Estim_MU']].values\n",
    "y1 = data[['Total_Gen_Act_MU']].values\n",
    "x1_train, x1_test, y1_train, y1_test = train_test_split(x1,y1,test_size=0.2,random_state=42)"
   ]
  },
  {
   "cell_type": "code",
   "execution_count": 32,
   "id": "81408f0e",
   "metadata": {},
   "outputs": [],
   "source": [
    "linreg = LinearRegression()\n",
    "model = linreg.fit(x1_train,y1_train)"
   ]
  },
  {
   "cell_type": "code",
   "execution_count": 52,
   "id": "7c31cbdb",
   "metadata": {},
   "outputs": [
    {
     "data": {
      "text/plain": [
       "[<matplotlib.lines.Line2D at 0x23ea9f6e8b0>]"
      ]
     },
     "execution_count": 52,
     "metadata": {},
     "output_type": "execute_result"
    },
    {
     "data": {
      "image/png": "[encoded data removed]",
      "text/plain": [
       "<Figure size 432x288 with 1 Axes>"
      ]
     },
     "metadata": {
      "needs_background": "light"
     },
     "output_type": "display_data"
    }
   ],
   "source": [
    "y1_pred = model.predict(x1_test)\n",
    "# plt.figure(figsize=(18,9))\n",
    "plt.xlabel(\"Total_Gen_Estim_MU\")\n",
    "plt.ylabel(\"Total_Gen_Act_MU\")\n",
    "plt.scatter(x1_test,y1_test)\n",
    "plt.plot(x1_test,y1_pred,color='r')"
   ]
  },
  {
   "cell_type": "code",
   "execution_count": 34,
   "id": "72fbb25c",
   "metadata": {},
   "outputs": [
    {
     "data": {
      "text/plain": [
       "'Training score : 0.9671587976984893'"
      ]
     },
     "execution_count": 34,
     "metadata": {},
     "output_type": "execute_result"
    }
   ],
   "source": [
    "f'Training score : {linreg.score(x1_train,y1_train)}'"
   ]
  },
  {
   "cell_type": "code",
   "execution_count": 35,
   "id": "8e79d050",
   "metadata": {},
   "outputs": [
    {
     "name": "stdout",
     "output_type": "stream",
     "text": [
      "Test score : 0.9686241857039192\n"
     ]
    }
   ],
   "source": [
    "from sklearn.metrics import r2_score\n",
    "score = r2_score(y1_test,y1_pred)\n",
    "print(f'Test score : {score}')"
   ]
  },
  {
   "cell_type": "code",
   "execution_count": 36,
   "id": "0d4291f2",
   "metadata": {},
   "outputs": [
    {
     "data": {
      "text/plain": [
       "4918.6950656856125"
      ]
     },
     "execution_count": 36,
     "metadata": {},
     "output_type": "execute_result"
    }
   ],
   "source": [
    "from sklearn.metrics import mean_squared_error\n",
    "mean_squared_error(y1_test, y1_pred)"
   ]
  },
  {
   "cell_type": "code",
   "execution_count": 37,
   "id": "9937e0fc",
   "metadata": {},
   "outputs": [
    {
     "data": {
      "text/plain": [
       "52.28629257366907"
      ]
     },
     "execution_count": 37,
     "metadata": {},
     "output_type": "execute_result"
    }
   ],
   "source": [
    "from sklearn.metrics import mean_absolute_error\n",
    "mean_absolute_error(y1_test, y1_pred)"
   ]
  },
  {
   "cell_type": "code",
   "execution_count": 38,
   "id": "fe204605",
   "metadata": {},
   "outputs": [
    {
     "data": {
      "text/html": [
       "<div>\n",
       "<style scoped>\n",
       "    .dataframe tbody tr th:only-of-type {\n",
       "        vertical-align: middle;\n",
       "    }\n",
       "\n",
       "    .dataframe tbody tr th {\n",
       "        vertical-align: top;\n",
       "    }\n",
       "\n",
       "    .dataframe thead th {\n",
       "        text-align: right;\n",
       "    }\n",
       "</style>\n",
       "<table border=\"1\" class=\"dataframe\">\n",
       "  <thead>\n",
       "    <tr style=\"text-align: right;\">\n",
       "      <th></th>\n",
       "      <th>Region</th>\n",
       "      <th>Thermal_Gen_Act_in_MU</th>\n",
       "      <th>Nuclear_Gen_Act_in_MU</th>\n",
       "      <th>Hydro_Gen_Act_in_MU</th>\n",
       "      <th>Year</th>\n",
       "      <th>Month</th>\n",
       "      <th>Total_Gen_Act_MU</th>\n",
       "      <th>Total_Gen_Estim_MU</th>\n",
       "    </tr>\n",
       "  </thead>\n",
       "  <tbody>\n",
       "    <tr>\n",
       "      <th>0</th>\n",
       "      <td>2</td>\n",
       "      <td>624.23</td>\n",
       "      <td>30.360000</td>\n",
       "      <td>273.27</td>\n",
       "      <td>2017</td>\n",
       "      <td>9</td>\n",
       "      <td>927.860000</td>\n",
       "      <td>840.590000</td>\n",
       "    </tr>\n",
       "    <tr>\n",
       "      <th>1</th>\n",
       "      <td>4</td>\n",
       "      <td>1106.89</td>\n",
       "      <td>25.170000</td>\n",
       "      <td>72.00</td>\n",
       "      <td>2017</td>\n",
       "      <td>9</td>\n",
       "      <td>1204.060000</td>\n",
       "      <td>1049.670000</td>\n",
       "    </tr>\n",
       "    <tr>\n",
       "      <th>2</th>\n",
       "      <td>3</td>\n",
       "      <td>576.66</td>\n",
       "      <td>62.730000</td>\n",
       "      <td>111.57</td>\n",
       "      <td>2017</td>\n",
       "      <td>9</td>\n",
       "      <td>750.960000</td>\n",
       "      <td>693.130000</td>\n",
       "    </tr>\n",
       "    <tr>\n",
       "      <th>3</th>\n",
       "      <td>0</td>\n",
       "      <td>441.02</td>\n",
       "      <td>37.242208</td>\n",
       "      <td>85.94</td>\n",
       "      <td>2017</td>\n",
       "      <td>9</td>\n",
       "      <td>564.202208</td>\n",
       "      <td>535.737877</td>\n",
       "    </tr>\n",
       "    <tr>\n",
       "      <th>4</th>\n",
       "      <td>1</td>\n",
       "      <td>29.11</td>\n",
       "      <td>37.242208</td>\n",
       "      <td>24.64</td>\n",
       "      <td>2017</td>\n",
       "      <td>9</td>\n",
       "      <td>90.992208</td>\n",
       "      <td>74.107877</td>\n",
       "    </tr>\n",
       "    <tr>\n",
       "      <th>...</th>\n",
       "      <td>...</td>\n",
       "      <td>...</td>\n",
       "      <td>...</td>\n",
       "      <td>...</td>\n",
       "      <td>...</td>\n",
       "      <td>...</td>\n",
       "      <td>...</td>\n",
       "      <td>...</td>\n",
       "    </tr>\n",
       "    <tr>\n",
       "      <th>4940</th>\n",
       "      <td>2</td>\n",
       "      <td>669.47</td>\n",
       "      <td>26.880000</td>\n",
       "      <td>348.72</td>\n",
       "      <td>2020</td>\n",
       "      <td>8</td>\n",
       "      <td>1045.070000</td>\n",
       "      <td>978.350000</td>\n",
       "    </tr>\n",
       "    <tr>\n",
       "      <th>4941</th>\n",
       "      <td>4</td>\n",
       "      <td>1116.00</td>\n",
       "      <td>42.370000</td>\n",
       "      <td>54.67</td>\n",
       "      <td>2020</td>\n",
       "      <td>8</td>\n",
       "      <td>1213.040000</td>\n",
       "      <td>1319.010000</td>\n",
       "    </tr>\n",
       "    <tr>\n",
       "      <th>4942</th>\n",
       "      <td>3</td>\n",
       "      <td>494.66</td>\n",
       "      <td>61.830000</td>\n",
       "      <td>93.49</td>\n",
       "      <td>2020</td>\n",
       "      <td>8</td>\n",
       "      <td>649.980000</td>\n",
       "      <td>519.060000</td>\n",
       "    </tr>\n",
       "    <tr>\n",
       "      <th>4943</th>\n",
       "      <td>0</td>\n",
       "      <td>482.86</td>\n",
       "      <td>37.242208</td>\n",
       "      <td>87.22</td>\n",
       "      <td>2020</td>\n",
       "      <td>8</td>\n",
       "      <td>607.322208</td>\n",
       "      <td>677.797877</td>\n",
       "    </tr>\n",
       "    <tr>\n",
       "      <th>4944</th>\n",
       "      <td>1</td>\n",
       "      <td>34.42</td>\n",
       "      <td>37.242208</td>\n",
       "      <td>29.87</td>\n",
       "      <td>2020</td>\n",
       "      <td>8</td>\n",
       "      <td>101.532208</td>\n",
       "      <td>99.757877</td>\n",
       "    </tr>\n",
       "  </tbody>\n",
       "</table>\n",
       "<p>4945 rows × 8 columns</p>\n",
       "</div>"
      ],
      "text/plain": [
       "      Region  Thermal_Gen_Act_in_MU  Nuclear_Gen_Act_in_MU  \\\n",
       "0          2                 624.23              30.360000   \n",
       "1          4                1106.89              25.170000   \n",
       "2          3                 576.66              62.730000   \n",
       "3          0                 441.02              37.242208   \n",
       "4          1                  29.11              37.242208   \n",
       "...      ...                    ...                    ...   \n",
       "4940       2                 669.47              26.880000   \n",
       "4941       4                1116.00              42.370000   \n",
       "4942       3                 494.66              61.830000   \n",
       "4943       0                 482.86              37.242208   \n",
       "4944       1                  34.42              37.242208   \n",
       "\n",
       "      Hydro_Gen_Act_in_MU  Year  Month  Total_Gen_Act_MU  Total_Gen_Estim_MU  \n",
       "0                  273.27  2017      9        927.860000          840.590000  \n",
       "1                   72.00  2017      9       1204.060000         1049.670000  \n",
       "2                  111.57  2017      9        750.960000          693.130000  \n",
       "3                   85.94  2017      9        564.202208          535.737877  \n",
       "4                   24.64  2017      9         90.992208           74.107877  \n",
       "...                   ...   ...    ...               ...                 ...  \n",
       "4940               348.72  2020      8       1045.070000          978.350000  \n",
       "4941                54.67  2020      8       1213.040000         1319.010000  \n",
       "4942                93.49  2020      8        649.980000          519.060000  \n",
       "4943                87.22  2020      8        607.322208          677.797877  \n",
       "4944                29.87  2020      8        101.532208           99.757877  \n",
       "\n",
       "[4945 rows x 8 columns]"
      ]
     },
     "execution_count": 38,
     "metadata": {},
     "output_type": "execute_result"
    }
   ],
   "source": [
    "data1= data.drop(['Thermal_Gen_Estim_in_MU', 'Nuclear_Gen_Estim_in_MU', 'Hydro_Gen_Estim_in_MU'], axis = 1)\n",
    "data1"
   ]
  },
  {
   "cell_type": "code",
   "execution_count": 39,
   "id": "d14fc050",
   "metadata": {},
   "outputs": [],
   "source": [
    "# target = ['Total_Gen_Act_MU']\n",
    "# features = ['Region', 'Thermal_Gen_Act_in_MU', 'Nuclear_Gen_Act_in_MU', 'Hydro_Gen_Act_in_MU', 'Month', 'Year']\n",
    "# x2 = data[features].values.reshape(-1, len(features))\n",
    "# y2 = data[target].values\n",
    "# x2 = data.iloc[:, 2].values.reshape(-1, 1)\n",
    "# y2 = data.iloc[:, 6]\n",
    "# y2 = data[['Total_Gen_Act_MU']].values\n",
    "# x2 = data['Region', 'Thermal_Gen_Act_in_MU', 'Nuclear_Gen_Act_in_MU', 'Hydro_Gen_Act_in_MU', 'Month', 'Year']\n",
    "x2 = data1.drop(['Total_Gen_Act_MU'], axis = 1).values#.reshape(-1, 1)\n",
    "x2 =x2[:, 1].reshape(-1, 1)\n",
    "y2 = data1['Total_Gen_Act_MU'].values\n",
    "x2_train,x2_test,y2_train,y2_test = train_test_split(x2,y2,test_size=0.2,random_state=42)"
   ]
  },
  {
   "cell_type": "code",
   "execution_count": 40,
   "id": "c86e8663",
   "metadata": {},
   "outputs": [],
   "source": [
    "scaler = StandardScaler()\n",
    "x2 = scaler.fit_transform(x2)"
   ]
  },
  {
   "cell_type": "code",
   "execution_count": 41,
   "id": "33b3f8ba",
   "metadata": {},
   "outputs": [],
   "source": [
    "linreg1 = LinearRegression()\n",
    "model1 = linreg1.fit(x2_train,y2_train)"
   ]
  },
  {
   "cell_type": "code",
   "execution_count": 42,
   "id": "41eb2da6",
   "metadata": {},
   "outputs": [
    {
     "data": {
      "text/plain": [
       "'Training score : 0.9665259494783913'"
      ]
     },
     "execution_count": 42,
     "metadata": {},
     "output_type": "execute_result"
    }
   ],
   "source": [
    "y2_pred = model1.predict(x2_test)"
   ]
  },
  {
   "cell_type": "code",
   "execution_count": 53,
   "id": "6830bcf6",
   "metadata": {
    "scrolled": false
   },
   "outputs": [
    {
     "data": {
      "text/plain": [
       "[<matplotlib.lines.Line2D at 0x23eae60b0d0>]"
      ]
     },
     "execution_count": 53,
     "metadata": {},
     "output_type": "execute_result"
    },
    {
     "data": {
      "image/png": "[encoded data removed]",
      "text/plain": [
       "<Figure size 432x288 with 1 Axes>"
      ]
     },
     "metadata": {
      "needs_background": "light"
     },
     "output_type": "display_data"
    }
   ],
   "source": [
    "y2_pred = model1.predict(x2_test)\n",
    "# plt.figure(figsize=(18,9))-\n",
    "plt.xlabel(\"Thermal_Gen_Act_MU\")\n",
    "plt.ylabel(\"Total_Gen_Act_MU\")\n",
    "plt.scatter(x2_test,y2_test)\n",
    "plt.plot(x2_test,y2_pred,color='r')"
   ]
  },
  {
   "cell_type": "code",
   "execution_count": 44,
   "id": "073535b1",
   "metadata": {},
   "outputs": [
    {
     "data": {
      "text/plain": [
       "'Training score : 0.9665259494783913'"
      ]
     },
     "execution_count": 44,
     "metadata": {},
     "output_type": "execute_result"
    }
   ],
   "source": [
    "f'Training score : {linreg1.score(x2_train,y2_train)}'"
   ]
  },
  {
   "cell_type": "code",
   "execution_count": null,
   "id": "9310d763",
   "metadata": {},
   "outputs": [],
   "source": []
  }
 ],
 "metadata": {
  "kernelspec": {
   "display_name": "Python 3",
   "language": "python",
   "name": "python3"
  },
  "language_info": {
   "codemirror_mode": {
    "name": "ipython",
    "version": 3
   },
   "file_extension": ".py",
   "mimetype": "text/x-python",
   "name": "python",
   "nbconvert_exporter": "python",
   "pygments_lexer": "ipython3",
   "version": "3.9.2"
  }
 },
 "nbformat": 4,
 "nbformat_minor": 5
}
